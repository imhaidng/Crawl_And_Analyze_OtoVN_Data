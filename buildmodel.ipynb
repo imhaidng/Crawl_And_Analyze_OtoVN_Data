{
 "cells": [
  {
   "cell_type": "code",
   "execution_count": 6,
   "id": "2388c463-c0c2-4545-9a52-e820cb2045a1",
   "metadata": {},
   "outputs": [],
   "source": [
    "import pandas as pd\n",
    "import matplotlib.pyplot as plt\n",
    "import seaborn as sns\n",
    "import numpy as np\n",
    "from sklearn.model_selection import train_test_split\n",
    "from sklearn.ensemble import RandomForestRegressor\n",
    "from sklearn.preprocessing import LabelEncoder\n",
    "from sklearn.metrics import mean_absolute_error\n",
    "from sklearn.preprocessing import StandardScaler\n",
    "from sklearn.metrics import mean_absolute_error, mean_squared_error, r2_score\n",
    "from sklearn.preprocessing import OneHotEncoder\n",
    "from sklearn.linear_model import LinearRegression"
   ]
  },
  {
   "cell_type": "code",
   "execution_count": 2,
   "id": "e3eac455-8334-42e5-b764-b43f6dd16218",
   "metadata": {},
   "outputs": [],
   "source": [
    "import warnings\n",
    "warnings.filterwarnings('ignore')"
   ]
  },
  {
   "cell_type": "code",
   "execution_count": 2,
   "id": "afbc71dc-9d7d-403a-bba5-07c5b73aff95",
   "metadata": {},
   "outputs": [
    {
     "data": {
      "text/html": [
       "<div>\n",
       "<style scoped>\n",
       "    .dataframe tbody tr th:only-of-type {\n",
       "        vertical-align: middle;\n",
       "    }\n",
       "\n",
       "    .dataframe tbody tr th {\n",
       "        vertical-align: top;\n",
       "    }\n",
       "\n",
       "    .dataframe thead th {\n",
       "        text-align: right;\n",
       "    }\n",
       "</style>\n",
       "<table border=\"1\" class=\"dataframe\">\n",
       "  <thead>\n",
       "    <tr style=\"text-align: right;\">\n",
       "      <th></th>\n",
       "      <th>Giá</th>\n",
       "      <th>Năm sản xuất</th>\n",
       "      <th>Kiểu dáng</th>\n",
       "      <th>Xuất xứ</th>\n",
       "      <th>Số km đã đi</th>\n",
       "      <th>Hộp số</th>\n",
       "      <th>Nhiên liệu</th>\n",
       "    </tr>\n",
       "  </thead>\n",
       "  <tbody>\n",
       "    <tr>\n",
       "      <th>0</th>\n",
       "      <td>1.119000e+09</td>\n",
       "      <td>2016</td>\n",
       "      <td>Sedan</td>\n",
       "      <td>Trongnước</td>\n",
       "      <td>51.499</td>\n",
       "      <td>Sốtựđộng</td>\n",
       "      <td>Xăng</td>\n",
       "    </tr>\n",
       "    <tr>\n",
       "      <th>1</th>\n",
       "      <td>1.789000e+09</td>\n",
       "      <td>2021</td>\n",
       "      <td>SUV</td>\n",
       "      <td>Nhậpkhẩu</td>\n",
       "      <td>8.000</td>\n",
       "      <td>Sốtựđộng</td>\n",
       "      <td>Xăng</td>\n",
       "    </tr>\n",
       "    <tr>\n",
       "      <th>2</th>\n",
       "      <td>5.200000e+08</td>\n",
       "      <td>2021</td>\n",
       "      <td>MPV</td>\n",
       "      <td>Nhậpkhẩu</td>\n",
       "      <td>10.000</td>\n",
       "      <td>Sốtay</td>\n",
       "      <td>Xăng</td>\n",
       "    </tr>\n",
       "    <tr>\n",
       "      <th>3</th>\n",
       "      <td>3.200000e+08</td>\n",
       "      <td>2009</td>\n",
       "      <td>Sedan</td>\n",
       "      <td>Trongnước</td>\n",
       "      <td>90.000</td>\n",
       "      <td>Sốtựđộng</td>\n",
       "      <td>Xăng</td>\n",
       "    </tr>\n",
       "    <tr>\n",
       "      <th>4</th>\n",
       "      <td>7.300000e+08</td>\n",
       "      <td>2016</td>\n",
       "      <td>SUV</td>\n",
       "      <td>Trongnước</td>\n",
       "      <td>68.000</td>\n",
       "      <td>Sốtựđộng</td>\n",
       "      <td>Xăng</td>\n",
       "    </tr>\n",
       "    <tr>\n",
       "      <th>...</th>\n",
       "      <td>...</td>\n",
       "      <td>...</td>\n",
       "      <td>...</td>\n",
       "      <td>...</td>\n",
       "      <td>...</td>\n",
       "      <td>...</td>\n",
       "      <td>...</td>\n",
       "    </tr>\n",
       "    <tr>\n",
       "      <th>2291</th>\n",
       "      <td>6.420000e+08</td>\n",
       "      <td>2018</td>\n",
       "      <td>Pick-upTruck</td>\n",
       "      <td>Nhậpkhẩu</td>\n",
       "      <td>15.000</td>\n",
       "      <td>Sốtựđộng</td>\n",
       "      <td>Diesel</td>\n",
       "    </tr>\n",
       "    <tr>\n",
       "      <th>2292</th>\n",
       "      <td>8.980000e+08</td>\n",
       "      <td>2018</td>\n",
       "      <td>Sedan</td>\n",
       "      <td>Trongnước</td>\n",
       "      <td>50.000</td>\n",
       "      <td>Sốtựđộng</td>\n",
       "      <td>Xăng</td>\n",
       "    </tr>\n",
       "    <tr>\n",
       "      <th>2293</th>\n",
       "      <td>3.800000e+08</td>\n",
       "      <td>2014</td>\n",
       "      <td>Hatchback</td>\n",
       "      <td>Nhậpkhẩu</td>\n",
       "      <td>92.000</td>\n",
       "      <td>Sốtựđộng</td>\n",
       "      <td>Xăng</td>\n",
       "    </tr>\n",
       "    <tr>\n",
       "      <th>2294</th>\n",
       "      <td>1.270000e+08</td>\n",
       "      <td>1993</td>\n",
       "      <td>Sedan</td>\n",
       "      <td>Nhậpkhẩu</td>\n",
       "      <td>68.000</td>\n",
       "      <td>Sốtựđộng</td>\n",
       "      <td>Xăng</td>\n",
       "    </tr>\n",
       "    <tr>\n",
       "      <th>2295</th>\n",
       "      <td>5.650000e+08</td>\n",
       "      <td>2016</td>\n",
       "      <td>SUV</td>\n",
       "      <td>Nhậpkhẩu</td>\n",
       "      <td>6.000</td>\n",
       "      <td>Sốtựđộng</td>\n",
       "      <td>Diesel</td>\n",
       "    </tr>\n",
       "  </tbody>\n",
       "</table>\n",
       "<p>2296 rows × 7 columns</p>\n",
       "</div>"
      ],
      "text/plain": [
       "               Giá  Năm sản xuất     Kiểu dáng    Xuất xứ Số km đã đi  \\\n",
       "0     1.119000e+09          2016         Sedan  Trongnước      51.499   \n",
       "1     1.789000e+09          2021           SUV   Nhậpkhẩu       8.000   \n",
       "2     5.200000e+08          2021           MPV   Nhậpkhẩu      10.000   \n",
       "3     3.200000e+08          2009         Sedan  Trongnước      90.000   \n",
       "4     7.300000e+08          2016           SUV  Trongnước      68.000   \n",
       "...            ...           ...           ...        ...         ...   \n",
       "2291  6.420000e+08          2018  Pick-upTruck   Nhậpkhẩu      15.000   \n",
       "2292  8.980000e+08          2018         Sedan  Trongnước      50.000   \n",
       "2293  3.800000e+08          2014     Hatchback   Nhậpkhẩu      92.000   \n",
       "2294  1.270000e+08          1993         Sedan   Nhậpkhẩu      68.000   \n",
       "2295  5.650000e+08          2016           SUV   Nhậpkhẩu       6.000   \n",
       "\n",
       "        Hộp số Nhiên liệu  \n",
       "0     Sốtựđộng       Xăng  \n",
       "1     Sốtựđộng       Xăng  \n",
       "2        Sốtay       Xăng  \n",
       "3     Sốtựđộng       Xăng  \n",
       "4     Sốtựđộng       Xăng  \n",
       "...        ...        ...  \n",
       "2291  Sốtựđộng     Diesel  \n",
       "2292  Sốtựđộng       Xăng  \n",
       "2293  Sốtựđộng       Xăng  \n",
       "2294  Sốtựđộng       Xăng  \n",
       "2295  Sốtựđộng     Diesel  \n",
       "\n",
       "[2296 rows x 7 columns]"
      ]
     },
     "execution_count": 2,
     "metadata": {},
     "output_type": "execute_result"
    }
   ],
   "source": [
    "df = pd.read_csv(\"data_processed.csv\")\n",
    "df"
   ]
  },
  {
   "cell_type": "code",
   "execution_count": 6,
   "id": "ca268215-dac3-4320-81c4-eff75813b3dd",
   "metadata": {},
   "outputs": [],
   "source": [
    "df['Số km đã đi'] = df['Số km đã đi'].str.replace(' km', '').str.replace('.', '').astype(float)"
   ]
  },
  {
   "cell_type": "code",
   "execution_count": 7,
   "id": "e1c72435-0d2d-4d68-8273-c41f78d9cae7",
   "metadata": {},
   "outputs": [
    {
     "name": "stdout",
     "output_type": "stream",
     "text": [
      "0       51499.0\n",
      "1        8000.0\n",
      "2       10000.0\n",
      "3       90000.0\n",
      "4       68000.0\n",
      "         ...   \n",
      "2291    15000.0\n",
      "2292    50000.0\n",
      "2293    92000.0\n",
      "2294    68000.0\n",
      "2295     6000.0\n",
      "Name: Số km đã đi, Length: 2296, dtype: float64\n"
     ]
    }
   ],
   "source": [
    "print(df['Số km đã đi'])"
   ]
  },
  {
   "cell_type": "code",
   "execution_count": 3,
   "id": "ab46f0d5-4291-434f-add5-87e9693bba12",
   "metadata": {},
   "outputs": [
    {
     "name": "stdout",
     "output_type": "stream",
     "text": [
      "<class 'pandas.core.frame.DataFrame'>\n",
      "RangeIndex: 2296 entries, 0 to 2295\n",
      "Data columns (total 7 columns):\n",
      " #   Column        Non-Null Count  Dtype  \n",
      "---  ------        --------------  -----  \n",
      " 0   Giá           2296 non-null   float64\n",
      " 1   Năm sản xuất  2296 non-null   int64  \n",
      " 2   Kiểu dáng     2296 non-null   object \n",
      " 3   Xuất xứ       2296 non-null   object \n",
      " 4   Số km đã đi   2296 non-null   object \n",
      " 5   Hộp số        2296 non-null   object \n",
      " 6   Nhiên liệu    2296 non-null   object \n",
      "dtypes: float64(1), int64(1), object(5)\n",
      "memory usage: 125.7+ KB\n"
     ]
    }
   ],
   "source": [
    "df.info()"
   ]
  },
  {
   "cell_type": "code",
   "execution_count": 6,
   "id": "d841fb27-ddb2-4838-a8c7-150b9ffe7323",
   "metadata": {},
   "outputs": [
    {
     "name": "stdout",
     "output_type": "stream",
     "text": [
      "['Sedan' 'SUV' 'MPV' 'Pick-upTruck' 'Hatchback' 'Convertible' 'CUV'\n",
      " 'Coupe' 'Van/Minivan' 'SportCar' 'Truck']\n"
     ]
    }
   ],
   "source": [
    "print(df['Kiểu dáng'].unique())"
   ]
  },
  {
   "cell_type": "code",
   "execution_count": 7,
   "id": "e57a3570-db89-4835-9436-9955db6dadc8",
   "metadata": {},
   "outputs": [
    {
     "name": "stdout",
     "output_type": "stream",
     "text": [
      "['Trongnước' 'Nhậpkhẩu']\n"
     ]
    }
   ],
   "source": [
    "print(df['Xuất xứ'].unique())"
   ]
  },
  {
   "cell_type": "code",
   "execution_count": 8,
   "id": "ad8dc499-12e2-4141-b3eb-dab5b37b4698",
   "metadata": {},
   "outputs": [
    {
     "name": "stdout",
     "output_type": "stream",
     "text": [
      "['Sốtựđộng' 'Sốtay' 'Sốhỗnhợp']\n"
     ]
    }
   ],
   "source": [
    "print(df['Hộp số'].unique())"
   ]
  },
  {
   "cell_type": "code",
   "execution_count": 9,
   "id": "8db64a10-6c5a-48aa-8df7-16a59c430415",
   "metadata": {},
   "outputs": [
    {
     "name": "stdout",
     "output_type": "stream",
     "text": [
      "['Xăng' 'Diesel' 'Loạikhác']\n"
     ]
    }
   ],
   "source": [
    "print(df['Nhiên liệu'].unique())"
   ]
  },
  {
   "cell_type": "markdown",
   "id": "6f7821cb-f401-47ed-a278-f7f391b26e05",
   "metadata": {},
   "source": [
    "Convert những giá trị chuỗi của cột  Kiểu dáng, Xuất xứ, Số km đã đi, Hộp số, Nhiên liệu sang giá trị số để train model"
   ]
  },
  {
   "cell_type": "code",
   "execution_count": 10,
   "id": "01968e96-d33b-42ea-9f49-6814a0b77763",
   "metadata": {},
   "outputs": [
    {
     "name": "stdout",
     "output_type": "stream",
     "text": [
      "Sedan: 7\n",
      "SUV: 6\n",
      "MPV: 4\n",
      "Pick-upTruck: 5\n",
      "Hatchback: 3\n",
      "Convertible: 1\n",
      "CUV: 0\n",
      "Coupe: 2\n",
      "Van/Minivan: 10\n",
      "SportCar: 8\n",
      "Truck: 9\n"
     ]
    }
   ],
   "source": [
    "from sklearn.preprocessing import LabelEncoder\n",
    "\n",
    "# Tạo thực thể LabelEncoder\n",
    "le_kieudang = LabelEncoder()\n",
    "\n",
    "# Danh sách các giá trị cần ánh xạ\n",
    "categories_kieudang = ['Sedan', 'SUV', 'MPV', 'Pick-upTruck', 'Hatchback', 'Convertible', 'CUV',\n",
    "                       'Coupe', 'Van/Minivan', 'SportCar', 'Truck']\n",
    "\n",
    "# Huấn luyện LabelEncoder với các giá trị trên\n",
    "le_kieudang.fit(categories_kieudang)\n",
    "\n",
    "# Ánh xạ các giá trị này sang số nguyên bằng phương thức transform()\n",
    "mapped_values = le_kieudang.transform(categories_kieudang)\n",
    "\n",
    "# In ra ánh xạ giữa giá trị gốc và giá trị số nguyên tương ứng\n",
    "for original, mapped in zip(categories_kieudang, mapped_values):\n",
    "    print(f'{original}: {mapped}')"
   ]
  },
  {
   "cell_type": "code",
   "execution_count": 11,
   "id": "5023a465-769a-4dcd-86b8-72ef8f2cc57a",
   "metadata": {},
   "outputs": [
    {
     "name": "stdout",
     "output_type": "stream",
     "text": [
      "Trongnước: 1\n",
      "Nhậpkhẩu: 0\n"
     ]
    }
   ],
   "source": [
    "# Tạo thực thể LabelEncoder\n",
    "le_nhapkhau = LabelEncoder()\n",
    "\n",
    "# Danh sách các giá trị cần ánh xạ cho cột \"Nhập khẩu\"\n",
    "categories_nhapkhau = ['Trongnước', 'Nhậpkhẩu']\n",
    "\n",
    "# Huấn luyện LabelEncoder với các giá trị trên\n",
    "le_nhapkhau.fit(categories_nhapkhau)\n",
    "\n",
    "# Ánh xạ các giá trị này sang số nguyên bằng phương thức transform()\n",
    "mapped_values_nhapkhau = le_nhapkhau.transform(categories_nhapkhau)\n",
    "\n",
    "# In ra ánh xạ giữa giá trị gốc và giá trị số nguyên tương ứng\n",
    "for original, mapped in zip(categories_nhapkhau, mapped_values_nhapkhau):\n",
    "    print(f'{original}: {mapped}')"
   ]
  },
  {
   "cell_type": "code",
   "execution_count": 12,
   "id": "2abf522c-03c9-45a2-9aba-a930b6fbfda7",
   "metadata": {},
   "outputs": [
    {
     "name": "stdout",
     "output_type": "stream",
     "text": [
      "Sốtựđộng: 2\n",
      "Sốtay: 1\n",
      "Sốhỗnhợp: 0\n"
     ]
    }
   ],
   "source": [
    "# Tạo thực thể của LabelEncoder\n",
    "le_hopso = LabelEncoder()\n",
    "\n",
    "# Danh sách các giá trị cần ánh xạ cho cột \"Hộp số\"\n",
    "categories_hopso = ['Sốtựđộng', 'Sốtay', 'Sốhỗnhợp']\n",
    "\n",
    "# Huấn luyện LabelEncoder với các giá trị trên\n",
    "le_hopso.fit(categories_hopso)\n",
    "df['Hộp số'] = le_hopso.transform(df['Hộp số'])\n",
    "# Ánh xạ các giá trị này sang số nguyên bằng phương thức transform()\n",
    "mapped_values_hopso = le_hopso.transform(categories_hopso)\n",
    "\n",
    "# In ra ánh xạ giữa giá trị gốc và giá trị số nguyên tương ứng\n",
    "for original, mapped in zip(categories_hopso, mapped_values_hopso):\n",
    "    print(f'{original}: {mapped}')"
   ]
  },
  {
   "cell_type": "code",
   "execution_count": 13,
   "id": "86963b86-27ce-4566-95c4-875d91e8c283",
   "metadata": {},
   "outputs": [
    {
     "name": "stdout",
     "output_type": "stream",
     "text": [
      "Xăng: 2\n",
      "Diesel: 0\n",
      "Loạikhác: 1\n"
     ]
    }
   ],
   "source": [
    "# Tạo thực thể của LabelEncoder\n",
    "le_nhienlieu = LabelEncoder()\n",
    "\n",
    "# Danh sách các giá trị cần ánh xạ cho cột \"Nhiên liệu\"\n",
    "categories_nhienlieu = ['Xăng', 'Diesel', 'Loạikhác']\n",
    "\n",
    "# Huấn luyện LabelEncoder với các giá trị trên\n",
    "le_nhienlieu.fit(categories_nhienlieu)\n",
    "\n",
    "# Ánh xạ các giá trị này sang số nguyên bằng phương thức transform()\n",
    "mapped_values_nhienlieu = le_nhienlieu.transform(categories_nhienlieu)\n",
    "\n",
    "# In ra ánh xạ giữa giá trị gốc và giá trị số nguyên tương ứng\n",
    "for original, mapped in zip(categories_nhienlieu, mapped_values_nhienlieu):\n",
    "    print(f'{original}: {mapped}')"
   ]
  },
  {
   "cell_type": "code",
   "execution_count": 29,
   "id": "1d57b920-bcd8-4125-ba37-1fddd53d3370",
   "metadata": {},
   "outputs": [
    {
     "name": "stdout",
     "output_type": "stream",
     "text": [
      "<class 'pandas.core.frame.DataFrame'>\n",
      "RangeIndex: 2296 entries, 0 to 2295\n",
      "Data columns (total 7 columns):\n",
      " #   Column        Non-Null Count  Dtype  \n",
      "---  ------        --------------  -----  \n",
      " 0   Giá           2296 non-null   float64\n",
      " 1   Năm sản xuất  2296 non-null   int64  \n",
      " 2   Kiểu dáng     2296 non-null   int32  \n",
      " 3   Xuất xứ       2296 non-null   int32  \n",
      " 4   Số km đã đi   2296 non-null   float64\n",
      " 5   Hộp số        2296 non-null   int32  \n",
      " 6   Nhiên liệu    2296 non-null   int32  \n",
      "dtypes: float64(2), int32(4), int64(1)\n",
      "memory usage: 89.8 KB\n"
     ]
    }
   ],
   "source": [
    "df.info()"
   ]
  },
  {
   "cell_type": "code",
   "execution_count": 21,
   "id": "a3aee36a-f8fb-4897-bbe1-e4ed8ceeed5d",
   "metadata": {},
   "outputs": [],
   "source": [
    "df['Kiểu dáng'] = df['Kiểu dáng'].replace({'Sedan': 1,'SUV':2,'MPV':3,'Pick-upTruck':4,'Hatchback':5,'Convertible':6,'CUV':7,'Coupe':8,'Van/Minivan':9,'SportCar':10,'Truck':11}).astype(int)"
   ]
  },
  {
   "cell_type": "code",
   "execution_count": 24,
   "id": "b5a95d9a-33ef-497e-8963-9dd6e3bfca10",
   "metadata": {},
   "outputs": [],
   "source": [
    "df['Xuất xứ'] = df['Xuất xứ'].replace({'Nhậpkhẩu': 1,'Trongnước':2}).astype(int)"
   ]
  },
  {
   "cell_type": "code",
   "execution_count": 26,
   "id": "e4775793-62c0-40de-8cdd-944d2255b413",
   "metadata": {},
   "outputs": [],
   "source": [
    "df['Hộp số'] = df['Hộp số'].replace({'Sốhỗnhợp': 1,'Sốtay':2,'Sốtựđộng':3}).astype(int)"
   ]
  },
  {
   "cell_type": "code",
   "execution_count": 28,
   "id": "8ae0697a-ae93-4967-89eb-c72f5802d127",
   "metadata": {},
   "outputs": [],
   "source": [
    "df['Nhiên liệu'] = df['Nhiên liệu'].replace({'Xăng': 1,'Diesel':2,'Loạikhác':3}).astype(int)"
   ]
  },
  {
   "cell_type": "markdown",
   "id": "0e52a990-a93c-4a2f-a7d4-f5e3404558f8",
   "metadata": {},
   "source": [
    "Đã xong chuẩn hóa dữ liệu"
   ]
  },
  {
   "cell_type": "markdown",
   "id": "ec19a633-3974-46e8-b762-fd7cd566b5f9",
   "metadata": {},
   "source": [
    "## Bắt đầu xây dựng mô hình"
   ]
  },
  {
   "cell_type": "code",
   "execution_count": 5,
   "id": "3a643e75-285b-407a-acac-4ad8aec8c9ff",
   "metadata": {},
   "outputs": [
    {
     "name": "stdout",
     "output_type": "stream",
     "text": [
      "Giá xe dự đoán: 580,962,337 VND\n"
     ]
    }
   ],
   "source": [
    "\n",
    "# # Đọc file data\n",
    "df = pd.read_csv(\"data_processed.csv\")\n",
    "\n",
    "# Sửa lỗi chính tả\n",
    "df[\"Số km đã đi\"] = df[\"Số km đã đi\"].str.replace(\".\", \"\")\n",
    "\n",
    "# Chuyển đổi kiểu dữ liệu\n",
    "df[\"Số km đã đi\"] = df[\"Số km đã đi\"].astype(float) \n",
    "\n",
    "# Chuyển đổi các cột categorical sang dạng số\n",
    "categorical_cols = [\"Kiểu dáng\", \"Xuất xứ\", \"Hộp số\", \"Nhiên liệu\"]\n",
    "encoder = OneHotEncoder(handle_unknown='ignore')\n",
    "encoded_features = encoder.fit_transform(df[categorical_cols]).toarray()\n",
    "encoded_features_df = pd.DataFrame(encoded_features, columns=encoder.get_feature_names_out(categorical_cols))\n",
    "df = df.drop(categorical_cols, axis=1).join(encoded_features_df)\n",
    "\n",
    "# Chia dữ liệu thành tập huấn luyện và tập kiểm tra\n",
    "X_train, X_test, y_train, y_test = train_test_split(\n",
    "    df.drop(\"Giá\", axis=1), df[\"Giá\"], test_size=0.2, random_state=42\n",
    ")\n",
    "\n",
    "# Huấn luyện mô hình\n",
    "model = LinearRegression()\n",
    "model.fit(X_train, y_train)\n",
    "\n",
    "# Dự đoán giá xe với thông tin mới\n",
    "new_car_data = {\n",
    "    \"Năm sản xuất\": 2010,\n",
    "    \"Số km đã đi\": '52900',\n",
    "    \"Kiểu dáng\": \"Sedan\",\n",
    "    \"Xuất xứ\": \"Trong nước\",\n",
    "    \"Hộp số\": \"Số tự động\",\n",
    "    \"Nhiên liệu\": \"Xăng\"\n",
    "}\n",
    "\n",
    "# Chuyển đổi dữ liệu mới sang dạng số\n",
    "new_car_data_encoded = pd.DataFrame([new_car_data], columns=new_car_data.keys())\n",
    "encoded_data = encoder.transform(new_car_data_encoded[categorical_cols]).toarray()  \n",
    "encoded_df = pd.DataFrame(encoded_data, columns=encoder.get_feature_names_out(categorical_cols))  # Tạo DataFrame từ mảng NumPy\n",
    "\n",
    "\n",
    "y_pred = model.predict(X_test)\n",
    "\n",
    "# Tính các chỉ số đánh giá\n",
    "mae = mean_absolute_error(y_test, y_pred)\n",
    "mse = mean_squared_error(y_test, y_pred)\n",
    "r2 = r2_score(y_test, y_pred)\n",
    "\n",
    "print(\"Mean Absolute Error (MAE):\", mae)\n",
    "print(\"Mean Squared Error (MSE):\", mse)\n",
    "print(\"R² Score:\", r2)\n",
    "\n",
    "new_car_data_encoded = new_car_data_encoded.drop(categorical_cols, axis=1).join(encoded_df)  # Kết hợp DataFrame\n",
    "\n",
    "# Dự đoán giá xe\n",
    "predicted_price = model.predict(new_car_data_encoded)\n",
    "formatted_price = format(predicted_price[0], \",.0f\")  # Định dạng số với dấu \",\" phân cách hàng nghìn\n",
    "print(\"Giá xe dự đoán:\", formatted_price,\"VND\")"
   ]
  },
  {
   "cell_type": "code",
   "execution_count": 7,
   "id": "268ab424-db7c-4035-95de-d378087bec59",
   "metadata": {},
   "outputs": [
    {
     "name": "stdout",
     "output_type": "stream",
     "text": [
      "Mean Absolute Error (MAE): 642071362.2042962\n",
      "Mean Squared Error (MSE): 2.2463510889022792e+18\n",
      "R² Score: 0.19535829193594811\n"
     ]
    }
   ],
   "source": []
  },
  {
   "cell_type": "code",
   "execution_count": 14,
   "id": "dd1a3311-14a6-4bd4-ab75-f596f2bf4c81",
   "metadata": {},
   "outputs": [
    {
     "name": "stdout",
     "output_type": "stream",
     "text": [
      "Random Forest - Mean Absolute Error (MAE): 392155010.5849902\n",
      "Random Forest - Mean Squared Error (MSE): 1.7613706706869586e+18\n",
      "Random Forest - R² Score: 0.36907800744181307\n",
      "Cross-Validated R² Scores: [ 0.39279828  0.34084864 -0.40065675  0.99995315  0.99995644]\n",
      "Mean Cross-Validated R² Score: 0.4665799523656496\n",
      "Độ chính xác của mô hình Random Forest: 36.91%\n",
      "Giá xe dự đoán (Random Forest): 1,876,510,000 VND\n"
     ]
    }
   ],
   "source": [
    "from sklearn.ensemble import RandomForestRegressor\n",
    "from sklearn.preprocessing import StandardScaler\n",
    "from sklearn.pipeline import Pipeline\n",
    "from sklearn.model_selection import cross_val_score\n",
    "\n",
    "# Chuẩn hóa dữ liệu\n",
    "scaler = StandardScaler()\n",
    "X_train_scaled = scaler.fit_transform(X_train)\n",
    "X_test_scaled = scaler.transform(X_test)\n",
    "\n",
    "# Huấn luyện mô hình Random Forest\n",
    "rf_model = RandomForestRegressor(n_estimators=100, random_state=42)\n",
    "rf_model.fit(X_train_scaled, y_train)\n",
    "\n",
    "# Đánh giá độ chính xác của mô hình\n",
    "y_pred_rf = rf_model.predict(X_test_scaled)\n",
    "mae_rf = mean_absolute_error(y_test, y_pred_rf)\n",
    "mse_rf = mean_squared_error(y_test, y_pred_rf)\n",
    "r2_rf = r2_score(y_test, y_pred_rf)\n",
    "\n",
    "print(\"Random Forest - Mean Absolute Error (MAE):\", mae_rf)\n",
    "print(\"Random Forest - Mean Squared Error (MSE):\", mse_rf)\n",
    "print(\"Random Forest - R² Score:\", r2_rf)\n",
    "\n",
    "\n",
    "\n",
    "# K-Fold Cross-Validation\n",
    "cv_scores = cross_val_score(rf_model, scaler.transform(df.drop(\"Giá\", axis=1)), df[\"Giá\"], cv=5, scoring='r2')\n",
    "print(\"Cross-Validated R² Scores:\", cv_scores)\n",
    "print(\"Mean Cross-Validated R² Score:\", cv_scores.mean())\n",
    "\n",
    "# Dự đoán giá xe với thông tin mới\n",
    "new_car_data = {\n",
    "    \"Năm sản xuất\": 2010,\n",
    "    \"Số km đã đi\": '52900',\n",
    "    \"Kiểu dáng\": \"Sedan\",\n",
    "    \"Xuất xứ\": \"Trong nước\",\n",
    "    \"Hộp số\": \"Số tự động\",\n",
    "    \"Nhiên liệu\": \"Xăng\"\n",
    "}\n",
    "\n",
    "# Chuyển đổi dữ liệu mới sang dạng số\n",
    "new_car_data_encoded = pd.DataFrame([new_car_data], columns=new_car_data.keys())\n",
    "encoded_data = encoder.transform(new_car_data_encoded[categorical_cols]).toarray()\n",
    "encoded_df = pd.DataFrame(encoded_data, columns=encoder.get_feature_names_out(categorical_cols))\n",
    "new_car_data_encoded = new_car_data_encoded.drop(categorical_cols, axis=1).join(encoded_df)\n",
    "\n",
    "# Dự đoán giá xe\n",
    "new_car_data_scaled = scaler.transform(new_car_data_encoded)\n",
    "predicted_price_rf = rf_model.predict(new_car_data_scaled)\n",
    "formatted_price_rf = format(predicted_price_rf[0], \",.0f\")\n",
    "accuracy_percentage = r2_rf * 100\n",
    "print(f\"Độ chính xác của mô hình Random Forest: {accuracy_percentage:.2f}%\")\n",
    "print(\"Giá xe dự đoán (Random Forest):\", formatted_price_rf, \"VND\")\n"
   ]
  },
  {
   "cell_type": "code",
   "execution_count": 13,
   "id": "fbcf365b-5c10-4845-a231-b07754aaa2f4",
   "metadata": {},
   "outputs": [
    {
     "ename": "KeyboardInterrupt",
     "evalue": "",
     "output_type": "error",
     "traceback": [
      "\u001b[1;31m---------------------------------------------------------------------------\u001b[0m",
      "\u001b[1;31mKeyboardInterrupt\u001b[0m                         Traceback (most recent call last)",
      "Cell \u001b[1;32mIn[13], line 51\u001b[0m\n\u001b[0;32m     49\u001b[0m \u001b[38;5;66;03m# Grid search với cross-validation\u001b[39;00m\n\u001b[0;32m     50\u001b[0m grid_search \u001b[38;5;241m=\u001b[39m GridSearchCV(estimator\u001b[38;5;241m=\u001b[39mrf, param_grid\u001b[38;5;241m=\u001b[39mparam_grid, cv\u001b[38;5;241m=\u001b[39mcv, scoring\u001b[38;5;241m=\u001b[39m\u001b[38;5;124m'\u001b[39m\u001b[38;5;124mr2\u001b[39m\u001b[38;5;124m'\u001b[39m, n_jobs\u001b[38;5;241m=\u001b[39m\u001b[38;5;241m-\u001b[39m\u001b[38;5;241m1\u001b[39m)\n\u001b[1;32m---> 51\u001b[0m \u001b[43mgrid_search\u001b[49m\u001b[38;5;241;43m.\u001b[39;49m\u001b[43mfit\u001b[49m\u001b[43m(\u001b[49m\u001b[43mX_train_scaled\u001b[49m\u001b[43m,\u001b[49m\u001b[43m \u001b[49m\u001b[43my_train\u001b[49m\u001b[43m)\u001b[49m\n\u001b[0;32m     53\u001b[0m \u001b[38;5;66;03m# Kết quả tốt nhất từ grid search\u001b[39;00m\n\u001b[0;32m     54\u001b[0m best_rf \u001b[38;5;241m=\u001b[39m grid_search\u001b[38;5;241m.\u001b[39mbest_estimator_\n",
      "File \u001b[1;32m~\\AppData\\Roaming\\Python\\Python311\\site-packages\\sklearn\\base.py:1152\u001b[0m, in \u001b[0;36m_fit_context.<locals>.decorator.<locals>.wrapper\u001b[1;34m(estimator, *args, **kwargs)\u001b[0m\n\u001b[0;32m   1145\u001b[0m     estimator\u001b[38;5;241m.\u001b[39m_validate_params()\n\u001b[0;32m   1147\u001b[0m \u001b[38;5;28;01mwith\u001b[39;00m config_context(\n\u001b[0;32m   1148\u001b[0m     skip_parameter_validation\u001b[38;5;241m=\u001b[39m(\n\u001b[0;32m   1149\u001b[0m         prefer_skip_nested_validation \u001b[38;5;129;01mor\u001b[39;00m global_skip_validation\n\u001b[0;32m   1150\u001b[0m     )\n\u001b[0;32m   1151\u001b[0m ):\n\u001b[1;32m-> 1152\u001b[0m     \u001b[38;5;28;01mreturn\u001b[39;00m \u001b[43mfit_method\u001b[49m\u001b[43m(\u001b[49m\u001b[43mestimator\u001b[49m\u001b[43m,\u001b[49m\u001b[43m \u001b[49m\u001b[38;5;241;43m*\u001b[39;49m\u001b[43margs\u001b[49m\u001b[43m,\u001b[49m\u001b[43m \u001b[49m\u001b[38;5;241;43m*\u001b[39;49m\u001b[38;5;241;43m*\u001b[39;49m\u001b[43mkwargs\u001b[49m\u001b[43m)\u001b[49m\n",
      "File \u001b[1;32m~\\AppData\\Roaming\\Python\\Python311\\site-packages\\sklearn\\model_selection\\_search.py:898\u001b[0m, in \u001b[0;36mBaseSearchCV.fit\u001b[1;34m(self, X, y, groups, **fit_params)\u001b[0m\n\u001b[0;32m    892\u001b[0m     results \u001b[38;5;241m=\u001b[39m \u001b[38;5;28mself\u001b[39m\u001b[38;5;241m.\u001b[39m_format_results(\n\u001b[0;32m    893\u001b[0m         all_candidate_params, n_splits, all_out, all_more_results\n\u001b[0;32m    894\u001b[0m     )\n\u001b[0;32m    896\u001b[0m     \u001b[38;5;28;01mreturn\u001b[39;00m results\n\u001b[1;32m--> 898\u001b[0m \u001b[38;5;28;43mself\u001b[39;49m\u001b[38;5;241;43m.\u001b[39;49m\u001b[43m_run_search\u001b[49m\u001b[43m(\u001b[49m\u001b[43mevaluate_candidates\u001b[49m\u001b[43m)\u001b[49m\n\u001b[0;32m    900\u001b[0m \u001b[38;5;66;03m# multimetric is determined here because in the case of a callable\u001b[39;00m\n\u001b[0;32m    901\u001b[0m \u001b[38;5;66;03m# self.scoring the return type is only known after calling\u001b[39;00m\n\u001b[0;32m    902\u001b[0m first_test_score \u001b[38;5;241m=\u001b[39m all_out[\u001b[38;5;241m0\u001b[39m][\u001b[38;5;124m\"\u001b[39m\u001b[38;5;124mtest_scores\u001b[39m\u001b[38;5;124m\"\u001b[39m]\n",
      "File \u001b[1;32m~\\AppData\\Roaming\\Python\\Python311\\site-packages\\sklearn\\model_selection\\_search.py:1422\u001b[0m, in \u001b[0;36mGridSearchCV._run_search\u001b[1;34m(self, evaluate_candidates)\u001b[0m\n\u001b[0;32m   1420\u001b[0m \u001b[38;5;28;01mdef\u001b[39;00m \u001b[38;5;21m_run_search\u001b[39m(\u001b[38;5;28mself\u001b[39m, evaluate_candidates):\n\u001b[0;32m   1421\u001b[0m \u001b[38;5;250m    \u001b[39m\u001b[38;5;124;03m\"\"\"Search all candidates in param_grid\"\"\"\u001b[39;00m\n\u001b[1;32m-> 1422\u001b[0m     \u001b[43mevaluate_candidates\u001b[49m\u001b[43m(\u001b[49m\u001b[43mParameterGrid\u001b[49m\u001b[43m(\u001b[49m\u001b[38;5;28;43mself\u001b[39;49m\u001b[38;5;241;43m.\u001b[39;49m\u001b[43mparam_grid\u001b[49m\u001b[43m)\u001b[49m\u001b[43m)\u001b[49m\n",
      "File \u001b[1;32m~\\AppData\\Roaming\\Python\\Python311\\site-packages\\sklearn\\model_selection\\_search.py:845\u001b[0m, in \u001b[0;36mBaseSearchCV.fit.<locals>.evaluate_candidates\u001b[1;34m(candidate_params, cv, more_results)\u001b[0m\n\u001b[0;32m    837\u001b[0m \u001b[38;5;28;01mif\u001b[39;00m \u001b[38;5;28mself\u001b[39m\u001b[38;5;241m.\u001b[39mverbose \u001b[38;5;241m>\u001b[39m \u001b[38;5;241m0\u001b[39m:\n\u001b[0;32m    838\u001b[0m     \u001b[38;5;28mprint\u001b[39m(\n\u001b[0;32m    839\u001b[0m         \u001b[38;5;124m\"\u001b[39m\u001b[38;5;124mFitting \u001b[39m\u001b[38;5;132;01m{0}\u001b[39;00m\u001b[38;5;124m folds for each of \u001b[39m\u001b[38;5;132;01m{1}\u001b[39;00m\u001b[38;5;124m candidates,\u001b[39m\u001b[38;5;124m\"\u001b[39m\n\u001b[0;32m    840\u001b[0m         \u001b[38;5;124m\"\u001b[39m\u001b[38;5;124m totalling \u001b[39m\u001b[38;5;132;01m{2}\u001b[39;00m\u001b[38;5;124m fits\u001b[39m\u001b[38;5;124m\"\u001b[39m\u001b[38;5;241m.\u001b[39mformat(\n\u001b[0;32m    841\u001b[0m             n_splits, n_candidates, n_candidates \u001b[38;5;241m*\u001b[39m n_splits\n\u001b[0;32m    842\u001b[0m         )\n\u001b[0;32m    843\u001b[0m     )\n\u001b[1;32m--> 845\u001b[0m out \u001b[38;5;241m=\u001b[39m \u001b[43mparallel\u001b[49m\u001b[43m(\u001b[49m\n\u001b[0;32m    846\u001b[0m \u001b[43m    \u001b[49m\u001b[43mdelayed\u001b[49m\u001b[43m(\u001b[49m\u001b[43m_fit_and_score\u001b[49m\u001b[43m)\u001b[49m\u001b[43m(\u001b[49m\n\u001b[0;32m    847\u001b[0m \u001b[43m        \u001b[49m\u001b[43mclone\u001b[49m\u001b[43m(\u001b[49m\u001b[43mbase_estimator\u001b[49m\u001b[43m)\u001b[49m\u001b[43m,\u001b[49m\n\u001b[0;32m    848\u001b[0m \u001b[43m        \u001b[49m\u001b[43mX\u001b[49m\u001b[43m,\u001b[49m\n\u001b[0;32m    849\u001b[0m \u001b[43m        \u001b[49m\u001b[43my\u001b[49m\u001b[43m,\u001b[49m\n\u001b[0;32m    850\u001b[0m \u001b[43m        \u001b[49m\u001b[43mtrain\u001b[49m\u001b[38;5;241;43m=\u001b[39;49m\u001b[43mtrain\u001b[49m\u001b[43m,\u001b[49m\n\u001b[0;32m    851\u001b[0m \u001b[43m        \u001b[49m\u001b[43mtest\u001b[49m\u001b[38;5;241;43m=\u001b[39;49m\u001b[43mtest\u001b[49m\u001b[43m,\u001b[49m\n\u001b[0;32m    852\u001b[0m \u001b[43m        \u001b[49m\u001b[43mparameters\u001b[49m\u001b[38;5;241;43m=\u001b[39;49m\u001b[43mparameters\u001b[49m\u001b[43m,\u001b[49m\n\u001b[0;32m    853\u001b[0m \u001b[43m        \u001b[49m\u001b[43msplit_progress\u001b[49m\u001b[38;5;241;43m=\u001b[39;49m\u001b[43m(\u001b[49m\u001b[43msplit_idx\u001b[49m\u001b[43m,\u001b[49m\u001b[43m \u001b[49m\u001b[43mn_splits\u001b[49m\u001b[43m)\u001b[49m\u001b[43m,\u001b[49m\n\u001b[0;32m    854\u001b[0m \u001b[43m        \u001b[49m\u001b[43mcandidate_progress\u001b[49m\u001b[38;5;241;43m=\u001b[39;49m\u001b[43m(\u001b[49m\u001b[43mcand_idx\u001b[49m\u001b[43m,\u001b[49m\u001b[43m \u001b[49m\u001b[43mn_candidates\u001b[49m\u001b[43m)\u001b[49m\u001b[43m,\u001b[49m\n\u001b[0;32m    855\u001b[0m \u001b[43m        \u001b[49m\u001b[38;5;241;43m*\u001b[39;49m\u001b[38;5;241;43m*\u001b[39;49m\u001b[43mfit_and_score_kwargs\u001b[49m\u001b[43m,\u001b[49m\n\u001b[0;32m    856\u001b[0m \u001b[43m    \u001b[49m\u001b[43m)\u001b[49m\n\u001b[0;32m    857\u001b[0m \u001b[43m    \u001b[49m\u001b[38;5;28;43;01mfor\u001b[39;49;00m\u001b[43m \u001b[49m\u001b[43m(\u001b[49m\u001b[43mcand_idx\u001b[49m\u001b[43m,\u001b[49m\u001b[43m \u001b[49m\u001b[43mparameters\u001b[49m\u001b[43m)\u001b[49m\u001b[43m,\u001b[49m\u001b[43m \u001b[49m\u001b[43m(\u001b[49m\u001b[43msplit_idx\u001b[49m\u001b[43m,\u001b[49m\u001b[43m \u001b[49m\u001b[43m(\u001b[49m\u001b[43mtrain\u001b[49m\u001b[43m,\u001b[49m\u001b[43m \u001b[49m\u001b[43mtest\u001b[49m\u001b[43m)\u001b[49m\u001b[43m)\u001b[49m\u001b[43m \u001b[49m\u001b[38;5;129;43;01min\u001b[39;49;00m\u001b[43m \u001b[49m\u001b[43mproduct\u001b[49m\u001b[43m(\u001b[49m\n\u001b[0;32m    858\u001b[0m \u001b[43m        \u001b[49m\u001b[38;5;28;43menumerate\u001b[39;49m\u001b[43m(\u001b[49m\u001b[43mcandidate_params\u001b[49m\u001b[43m)\u001b[49m\u001b[43m,\u001b[49m\u001b[43m \u001b[49m\u001b[38;5;28;43menumerate\u001b[39;49m\u001b[43m(\u001b[49m\u001b[43mcv\u001b[49m\u001b[38;5;241;43m.\u001b[39;49m\u001b[43msplit\u001b[49m\u001b[43m(\u001b[49m\u001b[43mX\u001b[49m\u001b[43m,\u001b[49m\u001b[43m \u001b[49m\u001b[43my\u001b[49m\u001b[43m,\u001b[49m\u001b[43m \u001b[49m\u001b[43mgroups\u001b[49m\u001b[43m)\u001b[49m\u001b[43m)\u001b[49m\n\u001b[0;32m    859\u001b[0m \u001b[43m    \u001b[49m\u001b[43m)\u001b[49m\n\u001b[0;32m    860\u001b[0m \u001b[43m\u001b[49m\u001b[43m)\u001b[49m\n\u001b[0;32m    862\u001b[0m \u001b[38;5;28;01mif\u001b[39;00m \u001b[38;5;28mlen\u001b[39m(out) \u001b[38;5;241m<\u001b[39m \u001b[38;5;241m1\u001b[39m:\n\u001b[0;32m    863\u001b[0m     \u001b[38;5;28;01mraise\u001b[39;00m \u001b[38;5;167;01mValueError\u001b[39;00m(\n\u001b[0;32m    864\u001b[0m         \u001b[38;5;124m\"\u001b[39m\u001b[38;5;124mNo fits were performed. \u001b[39m\u001b[38;5;124m\"\u001b[39m\n\u001b[0;32m    865\u001b[0m         \u001b[38;5;124m\"\u001b[39m\u001b[38;5;124mWas the CV iterator empty? \u001b[39m\u001b[38;5;124m\"\u001b[39m\n\u001b[0;32m    866\u001b[0m         \u001b[38;5;124m\"\u001b[39m\u001b[38;5;124mWere there no candidates?\u001b[39m\u001b[38;5;124m\"\u001b[39m\n\u001b[0;32m    867\u001b[0m     )\n",
      "File \u001b[1;32m~\\AppData\\Roaming\\Python\\Python311\\site-packages\\sklearn\\utils\\parallel.py:65\u001b[0m, in \u001b[0;36mParallel.__call__\u001b[1;34m(self, iterable)\u001b[0m\n\u001b[0;32m     60\u001b[0m config \u001b[38;5;241m=\u001b[39m get_config()\n\u001b[0;32m     61\u001b[0m iterable_with_config \u001b[38;5;241m=\u001b[39m (\n\u001b[0;32m     62\u001b[0m     (_with_config(delayed_func, config), args, kwargs)\n\u001b[0;32m     63\u001b[0m     \u001b[38;5;28;01mfor\u001b[39;00m delayed_func, args, kwargs \u001b[38;5;129;01min\u001b[39;00m iterable\n\u001b[0;32m     64\u001b[0m )\n\u001b[1;32m---> 65\u001b[0m \u001b[38;5;28;01mreturn\u001b[39;00m \u001b[38;5;28;43msuper\u001b[39;49m\u001b[43m(\u001b[49m\u001b[43m)\u001b[49m\u001b[38;5;241;43m.\u001b[39;49m\u001b[38;5;21;43m__call__\u001b[39;49m\u001b[43m(\u001b[49m\u001b[43miterable_with_config\u001b[49m\u001b[43m)\u001b[49m\n",
      "File \u001b[1;32m~\\AppData\\Roaming\\Python\\Python311\\site-packages\\joblib\\parallel.py:1952\u001b[0m, in \u001b[0;36mParallel.__call__\u001b[1;34m(self, iterable)\u001b[0m\n\u001b[0;32m   1946\u001b[0m \u001b[38;5;66;03m# The first item from the output is blank, but it makes the interpreter\u001b[39;00m\n\u001b[0;32m   1947\u001b[0m \u001b[38;5;66;03m# progress until it enters the Try/Except block of the generator and\u001b[39;00m\n\u001b[0;32m   1948\u001b[0m \u001b[38;5;66;03m# reach the first `yield` statement. This starts the aynchronous\u001b[39;00m\n\u001b[0;32m   1949\u001b[0m \u001b[38;5;66;03m# dispatch of the tasks to the workers.\u001b[39;00m\n\u001b[0;32m   1950\u001b[0m \u001b[38;5;28mnext\u001b[39m(output)\n\u001b[1;32m-> 1952\u001b[0m \u001b[38;5;28;01mreturn\u001b[39;00m output \u001b[38;5;28;01mif\u001b[39;00m \u001b[38;5;28mself\u001b[39m\u001b[38;5;241m.\u001b[39mreturn_generator \u001b[38;5;28;01melse\u001b[39;00m \u001b[38;5;28mlist\u001b[39m(output)\n",
      "File \u001b[1;32m~\\AppData\\Roaming\\Python\\Python311\\site-packages\\joblib\\parallel.py:1595\u001b[0m, in \u001b[0;36mParallel._get_outputs\u001b[1;34m(self, iterator, pre_dispatch)\u001b[0m\n\u001b[0;32m   1592\u001b[0m     \u001b[38;5;28;01myield\u001b[39;00m\n\u001b[0;32m   1594\u001b[0m     \u001b[38;5;28;01mwith\u001b[39;00m \u001b[38;5;28mself\u001b[39m\u001b[38;5;241m.\u001b[39m_backend\u001b[38;5;241m.\u001b[39mretrieval_context():\n\u001b[1;32m-> 1595\u001b[0m         \u001b[38;5;28;01myield from\u001b[39;00m \u001b[38;5;28mself\u001b[39m\u001b[38;5;241m.\u001b[39m_retrieve()\n\u001b[0;32m   1597\u001b[0m \u001b[38;5;28;01mexcept\u001b[39;00m \u001b[38;5;167;01mGeneratorExit\u001b[39;00m:\n\u001b[0;32m   1598\u001b[0m     \u001b[38;5;66;03m# The generator has been garbage collected before being fully\u001b[39;00m\n\u001b[0;32m   1599\u001b[0m     \u001b[38;5;66;03m# consumed. This aborts the remaining tasks if possible and warn\u001b[39;00m\n\u001b[0;32m   1600\u001b[0m     \u001b[38;5;66;03m# the user if necessary.\u001b[39;00m\n\u001b[0;32m   1601\u001b[0m     \u001b[38;5;28mself\u001b[39m\u001b[38;5;241m.\u001b[39m_exception \u001b[38;5;241m=\u001b[39m \u001b[38;5;28;01mTrue\u001b[39;00m\n",
      "File \u001b[1;32m~\\AppData\\Roaming\\Python\\Python311\\site-packages\\joblib\\parallel.py:1707\u001b[0m, in \u001b[0;36mParallel._retrieve\u001b[1;34m(self)\u001b[0m\n\u001b[0;32m   1702\u001b[0m \u001b[38;5;66;03m# If the next job is not ready for retrieval yet, we just wait for\u001b[39;00m\n\u001b[0;32m   1703\u001b[0m \u001b[38;5;66;03m# async callbacks to progress.\u001b[39;00m\n\u001b[0;32m   1704\u001b[0m \u001b[38;5;28;01mif\u001b[39;00m ((\u001b[38;5;28mlen\u001b[39m(\u001b[38;5;28mself\u001b[39m\u001b[38;5;241m.\u001b[39m_jobs) \u001b[38;5;241m==\u001b[39m \u001b[38;5;241m0\u001b[39m) \u001b[38;5;129;01mor\u001b[39;00m\n\u001b[0;32m   1705\u001b[0m     (\u001b[38;5;28mself\u001b[39m\u001b[38;5;241m.\u001b[39m_jobs[\u001b[38;5;241m0\u001b[39m]\u001b[38;5;241m.\u001b[39mget_status(\n\u001b[0;32m   1706\u001b[0m         timeout\u001b[38;5;241m=\u001b[39m\u001b[38;5;28mself\u001b[39m\u001b[38;5;241m.\u001b[39mtimeout) \u001b[38;5;241m==\u001b[39m TASK_PENDING)):\n\u001b[1;32m-> 1707\u001b[0m     time\u001b[38;5;241m.\u001b[39msleep(\u001b[38;5;241m0.01\u001b[39m)\n\u001b[0;32m   1708\u001b[0m     \u001b[38;5;28;01mcontinue\u001b[39;00m\n\u001b[0;32m   1710\u001b[0m \u001b[38;5;66;03m# We need to be careful: the job list can be filling up as\u001b[39;00m\n\u001b[0;32m   1711\u001b[0m \u001b[38;5;66;03m# we empty it and Python list are not thread-safe by\u001b[39;00m\n\u001b[0;32m   1712\u001b[0m \u001b[38;5;66;03m# default hence the use of the lock\u001b[39;00m\n",
      "\u001b[1;31mKeyboardInterrupt\u001b[0m: "
     ]
    }
   ],
   "source": [
    "from sklearn.metrics import mean_absolute_error, mean_squared_error, r2_score\n",
    "from sklearn.model_selection import GridSearchCV, KFold\n",
    "from sklearn.ensemble import RandomForestRegressor\n",
    "from sklearn.preprocessing import StandardScaler\n",
    "from sklearn.pipeline import Pipeline\n",
    "from sklearn.model_selection import train_test_split, cross_val_score\n",
    "import pandas as pd\n",
    "\n",
    "# Đọc file data\n",
    "df = pd.read_csv(\"data_processed.csv\")\n",
    "\n",
    "# Sửa lỗi chính tả\n",
    "df[\"Số km đã đi\"] = df[\"Số km đã đi\"].str.replace(\".\", \"\")\n",
    "\n",
    "# Chuyển đổi kiểu dữ liệu\n",
    "df[\"Số km đã đi\"] = df[\"Số km đã đi\"].astype(float)\n",
    "\n",
    "# Chuyển đổi các cột categorical sang dạng số\n",
    "categorical_cols = [\"Kiểu dáng\", \"Xuất xứ\", \"Hộp số\", \"Nhiên liệu\"]\n",
    "encoder = OneHotEncoder(handle_unknown='ignore')\n",
    "encoded_features = encoder.fit_transform(df[categorical_cols]).toarray()\n",
    "encoded_features_df = pd.DataFrame(encoded_features, columns=encoder.get_feature_names_out(categorical_cols))\n",
    "df = df.drop(categorical_cols, axis=1).join(encoded_features_df)\n",
    "\n",
    "# Chia dữ liệu thành tập huấn luyện và tập kiểm tra\n",
    "X_train, X_test, y_train, y_test = train_test_split(\n",
    "    df.drop(\"Giá\", axis=1), df[\"Giá\"], test_size=0.2, random_state=42\n",
    ")\n",
    "\n",
    "# Chuẩn hóa dữ liệu\n",
    "scaler = StandardScaler()\n",
    "X_train_scaled = scaler.fit_transform(X_train)\n",
    "X_test_scaled = scaler.transform(X_test)\n",
    "\n",
    "# Định nghĩa lưới các siêu tham số\n",
    "param_grid = {\n",
    "    'n_estimators': [100, 200, 300],\n",
    "    'max_depth': [None, 10, 20, 30],\n",
    "    'min_samples_split': [2, 5, 10],\n",
    "    'min_samples_leaf': [1, 2, 4]\n",
    "}\n",
    "\n",
    "# Khởi tạo mô hình Random Forest\n",
    "rf = RandomForestRegressor(random_state=42)\n",
    "\n",
    "# Định nghĩa k-fold cross-validation với số lượng folds là 10\n",
    "cv = KFold(n_splits=10, shuffle=True, random_state=42)\n",
    "\n",
    "# Grid search với cross-validation\n",
    "grid_search = GridSearchCV(estimator=rf, param_grid=param_grid, cv=cv, scoring='r2', n_jobs=-1)\n",
    "grid_search.fit(X_train_scaled, y_train)\n",
    "\n",
    "# Kết quả tốt nhất từ grid search\n",
    "best_rf = grid_search.best_estimator_\n",
    "print(\"Best parameters found: \", grid_search.best_params_)\n",
    "\n",
    "# Đánh giá mô hình với các siêu tham số tốt nhất\n",
    "y_pred_best_rf = best_rf.predict(X_test_scaled)\n",
    "mae_best_rf = mean_absolute_error(y_test, y_pred_best_rf)\n",
    "mse_best_rf = mean_squared_error(y_test, y_pred_best_rf)\n",
    "r2_best_rf = r2_score(y_test, y_pred_best_rf)\n",
    "\n",
    "print(\"Tuned Random Forest - Mean Absolute Error (MAE):\", mae_best_rf)\n",
    "print(\"Tuned Random Forest - Mean Squared Error (MSE):\", mse_best_rf)\n",
    "print(\"Tuned Random Forest - R² Score:\", r2_best_rf)\n",
    "\n",
    "# Biểu diễn R² Score dưới dạng phần trăm\n",
    "accuracy_percentage = r2_best_rf * 100\n",
    "print(\"Độ chính xác của mô hình (R² Score): {:.2f}%\".format(accuracy_percentage))\n",
    "\n",
    "# K-Fold Cross-Validation với mô hình tốt nhất\n",
    "cv_scores = cross_val_score(best_rf, scaler.transform(df.drop(\"Giá\", axis=1)), df[\"Giá\"], cv=cv, scoring='r2')\n",
    "print(\"Cross-Validated R² Scores:\", cv_scores)\n",
    "print(\"Mean Cross-Validated R² Score:\", cv_scores.mean())\n",
    "\n",
    "# Dự đoán giá xe với mô hình tốt nhất\n",
    "new_car_data = {\n",
    "    \"Năm sản xuất\": 2010,\n",
    "    \"Số km đã đi\": '52900',\n",
    "    \"Kiểu dáng\": \"Sedan\",\n",
    "    \"Xuất xứ\": \"Trong nước\",\n",
    "    \"Hộp số\": \"Số tự động\",\n",
    "    \"Nhiên liệu\": \"Xăng\"\n",
    "}\n",
    "\n",
    "# Chuyển đổi dữ liệu mới sang dạng số\n",
    "new_car_data_encoded = pd.DataFrame([new_car_data], columns=new_car_data.keys())\n",
    "encoded_data = encoder.transform(new_car_data_encoded[categorical_cols]).toarray()\n",
    "encoded_df = pd.DataFrame(encoded_data, columns=encoder.get_feature_names_out(categorical_cols))\n",
    "new_car_data_encoded = new_car_data_encoded.drop(categorical_cols, axis=1).join(encoded_df)\n",
    "\n",
    "# Dự đoán giá xe\n",
    "new_car_data_scaled = scaler.transform(new_car_data_encoded)\n",
    "predicted_price_best_rf = best_rf.predict(new_car_data_scaled)\n",
    "formatted_price_best_rf = format(predicted_price_best_rf[0], \",.0f\")\n",
    "print(\"Giá xe dự đoán (Tuned Random Forest):\", formatted_price_best_rf, \"VND\")\n"
   ]
  },
  {
   "cell_type": "code",
   "execution_count": null,
   "id": "83272672-f9cf-499b-89ff-ec6dfe4e44c7",
   "metadata": {},
   "outputs": [],
   "source": []
  }
 ],
 "metadata": {
  "kernelspec": {
   "display_name": "Python 3 (ipykernel)",
   "language": "python",
   "name": "python3"
  },
  "language_info": {
   "codemirror_mode": {
    "name": "ipython",
    "version": 3
   },
   "file_extension": ".py",
   "mimetype": "text/x-python",
   "name": "python",
   "nbconvert_exporter": "python",
   "pygments_lexer": "ipython3",
   "version": "3.11.4"
  }
 },
 "nbformat": 4,
 "nbformat_minor": 5
}
