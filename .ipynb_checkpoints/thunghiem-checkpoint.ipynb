{
 "cells": [
  {
   "cell_type": "code",
   "execution_count": 1,
   "id": "cce25b80-e84f-4964-a7b9-a136d0f79eeb",
   "metadata": {},
   "outputs": [],
   "source": [
    "import pandas as pd\n",
    "import matplotlib.pyplot as plt\n",
    "import seaborn as sns\n",
    "import numpy as np"
   ]
  },
  {
   "cell_type": "code",
   "execution_count": 2,
   "id": "67d2aecd-0b2c-42bb-88e9-d178e4136807",
   "metadata": {},
   "outputs": [
    {
     "data": {
      "text/html": [
       "<div>\n",
       "<style scoped>\n",
       "    .dataframe tbody tr th:only-of-type {\n",
       "        vertical-align: middle;\n",
       "    }\n",
       "\n",
       "    .dataframe tbody tr th {\n",
       "        vertical-align: top;\n",
       "    }\n",
       "\n",
       "    .dataframe thead th {\n",
       "        text-align: right;\n",
       "    }\n",
       "</style>\n",
       "<table border=\"1\" class=\"dataframe\">\n",
       "  <thead>\n",
       "    <tr style=\"text-align: right;\">\n",
       "      <th></th>\n",
       "      <th>Tên xe</th>\n",
       "      <th>Giá</th>\n",
       "      <th>Năm sản xuất</th>\n",
       "      <th>Kiểu dáng</th>\n",
       "      <th>Tình trạng</th>\n",
       "      <th>Xuất xứ</th>\n",
       "      <th>Số km đã đi</th>\n",
       "      <th>Tỉnh thành</th>\n",
       "      <th>Hộp số</th>\n",
       "      <th>Nhiên liệu</th>\n",
       "    </tr>\n",
       "  </thead>\n",
       "  <tbody>\n",
       "    <tr>\n",
       "      <th>0</th>\n",
       "      <td>Mercedes-Benz CLA 250 4Matic 2014</td>\n",
       "      <td>845000000</td>\n",
       "      <td>2014</td>\n",
       "      <td>Sedan</td>\n",
       "      <td>Đãquasửdụng</td>\n",
       "      <td>Trongnước</td>\n",
       "      <td>78.858km</td>\n",
       "      <td>HàNội</td>\n",
       "      <td>Sốtựđộng</td>\n",
       "      <td>NaN</td>\n",
       "    </tr>\n",
       "    <tr>\n",
       "      <th>1</th>\n",
       "      <td>Mercedes-Benz C 250 Exclusive 2016</td>\n",
       "      <td>1119000000</td>\n",
       "      <td>2016</td>\n",
       "      <td>Sedan</td>\n",
       "      <td>Đãquasửdụng</td>\n",
       "      <td>Trongnước</td>\n",
       "      <td>51.499km</td>\n",
       "      <td>Tp.HCM</td>\n",
       "      <td>Sốtựđộng</td>\n",
       "      <td>Xăng</td>\n",
       "    </tr>\n",
       "    <tr>\n",
       "      <th>2</th>\n",
       "      <td>Mercedes-Benz GLC 200 4Matic 2021</td>\n",
       "      <td>1789000000</td>\n",
       "      <td>2021</td>\n",
       "      <td>SUV</td>\n",
       "      <td>Đãquasửdụng</td>\n",
       "      <td>Nhậpkhẩu</td>\n",
       "      <td>8.000km</td>\n",
       "      <td>Tp.HCM</td>\n",
       "      <td>Sốtựđộng</td>\n",
       "      <td>Xăng</td>\n",
       "    </tr>\n",
       "    <tr>\n",
       "      <th>3</th>\n",
       "      <td>Mitsubishi Xpander 1.5MT 2021</td>\n",
       "      <td>520000000</td>\n",
       "      <td>2021</td>\n",
       "      <td>MPV</td>\n",
       "      <td>Đãquasửdụng</td>\n",
       "      <td>Nhậpkhẩu</td>\n",
       "      <td>10.000km</td>\n",
       "      <td>HàNội</td>\n",
       "      <td>Sốtay</td>\n",
       "      <td>Xăng</td>\n",
       "    </tr>\n",
       "    <tr>\n",
       "      <th>4</th>\n",
       "      <td>Kia Forte S 2.0 AT 2009</td>\n",
       "      <td>320000000</td>\n",
       "      <td>2009</td>\n",
       "      <td>Sedan</td>\n",
       "      <td>Đãquasửdụng</td>\n",
       "      <td>Trongnước</td>\n",
       "      <td>90.000km</td>\n",
       "      <td>HàNội</td>\n",
       "      <td>Sốtựđộng</td>\n",
       "      <td>Xăng</td>\n",
       "    </tr>\n",
       "    <tr>\n",
       "      <th>...</th>\n",
       "      <td>...</td>\n",
       "      <td>...</td>\n",
       "      <td>...</td>\n",
       "      <td>...</td>\n",
       "      <td>...</td>\n",
       "      <td>...</td>\n",
       "      <td>...</td>\n",
       "      <td>...</td>\n",
       "      <td>...</td>\n",
       "      <td>...</td>\n",
       "    </tr>\n",
       "    <tr>\n",
       "      <th>3255</th>\n",
       "      <td>Toyota Camry 2.5Q 2018</td>\n",
       "      <td>898000000</td>\n",
       "      <td>2018</td>\n",
       "      <td>Sedan</td>\n",
       "      <td>Đãquasửdụng</td>\n",
       "      <td>Trongnước</td>\n",
       "      <td>50.000km</td>\n",
       "      <td>HàNội</td>\n",
       "      <td>Sốtựđộng</td>\n",
       "      <td>Xăng</td>\n",
       "    </tr>\n",
       "    <tr>\n",
       "      <th>3256</th>\n",
       "      <td>Toyota Yaris 1.3G 2014</td>\n",
       "      <td>380000000</td>\n",
       "      <td>2014</td>\n",
       "      <td>Hatchback</td>\n",
       "      <td>Đãquasửdụng</td>\n",
       "      <td>Nhậpkhẩu</td>\n",
       "      <td>92.000km</td>\n",
       "      <td>Tp.HCM</td>\n",
       "      <td>Sốtựđộng</td>\n",
       "      <td>Xăng</td>\n",
       "    </tr>\n",
       "    <tr>\n",
       "      <th>3257</th>\n",
       "      <td>Toyota Camry 1993</td>\n",
       "      <td>127000000</td>\n",
       "      <td>1993</td>\n",
       "      <td>Sedan</td>\n",
       "      <td>Đãquasửdụng</td>\n",
       "      <td>Nhậpkhẩu</td>\n",
       "      <td>68.000km</td>\n",
       "      <td>Tp.HCM</td>\n",
       "      <td>Sốtựđộng</td>\n",
       "      <td>Xăng</td>\n",
       "    </tr>\n",
       "    <tr>\n",
       "      <th>3258</th>\n",
       "      <td>Ford Everest 2.5AT 2016</td>\n",
       "      <td>565000000</td>\n",
       "      <td>2016</td>\n",
       "      <td>SUV</td>\n",
       "      <td>Đãquasửdụng</td>\n",
       "      <td>Nhậpkhẩu</td>\n",
       "      <td>6.000km</td>\n",
       "      <td>Tp.HCM</td>\n",
       "      <td>Sốtựđộng</td>\n",
       "      <td>Diesel</td>\n",
       "    </tr>\n",
       "    <tr>\n",
       "      <th>3259</th>\n",
       "      <td>BMW 328i GT 2014</td>\n",
       "      <td>899000000</td>\n",
       "      <td>2014</td>\n",
       "      <td>Sedan</td>\n",
       "      <td>Đãquasửdụng</td>\n",
       "      <td>Nhậpkhẩu</td>\n",
       "      <td>82.000km</td>\n",
       "      <td>HàNội</td>\n",
       "      <td>NaN</td>\n",
       "      <td>NaN</td>\n",
       "    </tr>\n",
       "  </tbody>\n",
       "</table>\n",
       "<p>3260 rows × 10 columns</p>\n",
       "</div>"
      ],
      "text/plain": [
       "                                  Tên xe         Giá Năm sản xuất  Kiểu dáng  \\\n",
       "0      Mercedes-Benz CLA 250 4Matic 2014   845000000         2014      Sedan   \n",
       "1     Mercedes-Benz C 250 Exclusive 2016  1119000000         2016      Sedan   \n",
       "2      Mercedes-Benz GLC 200 4Matic 2021  1789000000         2021        SUV   \n",
       "3          Mitsubishi Xpander 1.5MT 2021   520000000         2021        MPV   \n",
       "4                Kia Forte S 2.0 AT 2009   320000000         2009      Sedan   \n",
       "...                                  ...         ...          ...        ...   \n",
       "3255              Toyota Camry 2.5Q 2018   898000000         2018      Sedan   \n",
       "3256              Toyota Yaris 1.3G 2014   380000000         2014  Hatchback   \n",
       "3257                   Toyota Camry 1993   127000000         1993      Sedan   \n",
       "3258             Ford Everest 2.5AT 2016   565000000         2016        SUV   \n",
       "3259                    BMW 328i GT 2014   899000000         2014      Sedan   \n",
       "\n",
       "       Tình trạng    Xuất xứ Số km đã đi Tỉnh thành    Hộp số Nhiên liệu  \n",
       "0     Đãquasửdụng  Trongnước    78.858km      HàNội  Sốtựđộng        NaN  \n",
       "1     Đãquasửdụng  Trongnước    51.499km     Tp.HCM  Sốtựđộng       Xăng  \n",
       "2     Đãquasửdụng   Nhậpkhẩu     8.000km     Tp.HCM  Sốtựđộng       Xăng  \n",
       "3     Đãquasửdụng   Nhậpkhẩu    10.000km      HàNội     Sốtay       Xăng  \n",
       "4     Đãquasửdụng  Trongnước    90.000km      HàNội  Sốtựđộng       Xăng  \n",
       "...           ...        ...         ...        ...       ...        ...  \n",
       "3255  Đãquasửdụng  Trongnước    50.000km      HàNội  Sốtựđộng       Xăng  \n",
       "3256  Đãquasửdụng   Nhậpkhẩu    92.000km     Tp.HCM  Sốtựđộng       Xăng  \n",
       "3257  Đãquasửdụng   Nhậpkhẩu    68.000km     Tp.HCM  Sốtựđộng       Xăng  \n",
       "3258  Đãquasửdụng   Nhậpkhẩu     6.000km     Tp.HCM  Sốtựđộng     Diesel  \n",
       "3259  Đãquasửdụng   Nhậpkhẩu    82.000km      HàNội       NaN        NaN  \n",
       "\n",
       "[3260 rows x 10 columns]"
      ]
     },
     "execution_count": 2,
     "metadata": {},
     "output_type": "execute_result"
    }
   ],
   "source": [
    "data = pd.read_csv('old_car_data.csv')\n",
    "data"
   ]
  },
  {
   "cell_type": "code",
   "execution_count": 3,
   "id": "4f0a0b32-ea02-4caa-b81f-ef2d0e7bb5f5",
   "metadata": {},
   "outputs": [
    {
     "name": "stdout",
     "output_type": "stream",
     "text": [
      "Tên xe            0\n",
      "Giá               3\n",
      "Năm sản xuất     14\n",
      "Kiểu dáng       121\n",
      "Tình trạng      121\n",
      "Xuất xứ         121\n",
      "Số km đã đi     147\n",
      "Tỉnh thành      248\n",
      "Hộp số          365\n",
      "Nhiên liệu      964\n",
      "dtype: int64\n"
     ]
    }
   ],
   "source": [
    "#kiểm tra số bản ghi trống\n",
    "print(data.isnull().sum())"
   ]
  },
  {
   "cell_type": "code",
   "execution_count": 4,
   "id": "2deef2dd-679a-42f8-a618-104ea7741645",
   "metadata": {},
   "outputs": [
    {
     "data": {
      "text/html": [
       "<div>\n",
       "<style scoped>\n",
       "    .dataframe tbody tr th:only-of-type {\n",
       "        vertical-align: middle;\n",
       "    }\n",
       "\n",
       "    .dataframe tbody tr th {\n",
       "        vertical-align: top;\n",
       "    }\n",
       "\n",
       "    .dataframe thead th {\n",
       "        text-align: right;\n",
       "    }\n",
       "</style>\n",
       "<table border=\"1\" class=\"dataframe\">\n",
       "  <thead>\n",
       "    <tr style=\"text-align: right;\">\n",
       "      <th></th>\n",
       "      <th>Giá</th>\n",
       "      <th>Năm sản xuất</th>\n",
       "      <th>Kiểu dáng</th>\n",
       "      <th>Xuất xứ</th>\n",
       "      <th>Số km đã đi</th>\n",
       "      <th>Hộp số</th>\n",
       "      <th>Nhiên liệu</th>\n",
       "    </tr>\n",
       "  </thead>\n",
       "  <tbody>\n",
       "    <tr>\n",
       "      <th>0</th>\n",
       "      <td>845000000</td>\n",
       "      <td>2014</td>\n",
       "      <td>Sedan</td>\n",
       "      <td>Trongnước</td>\n",
       "      <td>78.858km</td>\n",
       "      <td>Sốtựđộng</td>\n",
       "      <td>NaN</td>\n",
       "    </tr>\n",
       "    <tr>\n",
       "      <th>1</th>\n",
       "      <td>1119000000</td>\n",
       "      <td>2016</td>\n",
       "      <td>Sedan</td>\n",
       "      <td>Trongnước</td>\n",
       "      <td>51.499km</td>\n",
       "      <td>Sốtựđộng</td>\n",
       "      <td>Xăng</td>\n",
       "    </tr>\n",
       "    <tr>\n",
       "      <th>2</th>\n",
       "      <td>1789000000</td>\n",
       "      <td>2021</td>\n",
       "      <td>SUV</td>\n",
       "      <td>Nhậpkhẩu</td>\n",
       "      <td>8.000km</td>\n",
       "      <td>Sốtựđộng</td>\n",
       "      <td>Xăng</td>\n",
       "    </tr>\n",
       "    <tr>\n",
       "      <th>3</th>\n",
       "      <td>520000000</td>\n",
       "      <td>2021</td>\n",
       "      <td>MPV</td>\n",
       "      <td>Nhậpkhẩu</td>\n",
       "      <td>10.000km</td>\n",
       "      <td>Sốtay</td>\n",
       "      <td>Xăng</td>\n",
       "    </tr>\n",
       "    <tr>\n",
       "      <th>4</th>\n",
       "      <td>320000000</td>\n",
       "      <td>2009</td>\n",
       "      <td>Sedan</td>\n",
       "      <td>Trongnước</td>\n",
       "      <td>90.000km</td>\n",
       "      <td>Sốtựđộng</td>\n",
       "      <td>Xăng</td>\n",
       "    </tr>\n",
       "    <tr>\n",
       "      <th>...</th>\n",
       "      <td>...</td>\n",
       "      <td>...</td>\n",
       "      <td>...</td>\n",
       "      <td>...</td>\n",
       "      <td>...</td>\n",
       "      <td>...</td>\n",
       "      <td>...</td>\n",
       "    </tr>\n",
       "    <tr>\n",
       "      <th>3255</th>\n",
       "      <td>898000000</td>\n",
       "      <td>2018</td>\n",
       "      <td>Sedan</td>\n",
       "      <td>Trongnước</td>\n",
       "      <td>50.000km</td>\n",
       "      <td>Sốtựđộng</td>\n",
       "      <td>Xăng</td>\n",
       "    </tr>\n",
       "    <tr>\n",
       "      <th>3256</th>\n",
       "      <td>380000000</td>\n",
       "      <td>2014</td>\n",
       "      <td>Hatchback</td>\n",
       "      <td>Nhậpkhẩu</td>\n",
       "      <td>92.000km</td>\n",
       "      <td>Sốtựđộng</td>\n",
       "      <td>Xăng</td>\n",
       "    </tr>\n",
       "    <tr>\n",
       "      <th>3257</th>\n",
       "      <td>127000000</td>\n",
       "      <td>1993</td>\n",
       "      <td>Sedan</td>\n",
       "      <td>Nhậpkhẩu</td>\n",
       "      <td>68.000km</td>\n",
       "      <td>Sốtựđộng</td>\n",
       "      <td>Xăng</td>\n",
       "    </tr>\n",
       "    <tr>\n",
       "      <th>3258</th>\n",
       "      <td>565000000</td>\n",
       "      <td>2016</td>\n",
       "      <td>SUV</td>\n",
       "      <td>Nhậpkhẩu</td>\n",
       "      <td>6.000km</td>\n",
       "      <td>Sốtựđộng</td>\n",
       "      <td>Diesel</td>\n",
       "    </tr>\n",
       "    <tr>\n",
       "      <th>3259</th>\n",
       "      <td>899000000</td>\n",
       "      <td>2014</td>\n",
       "      <td>Sedan</td>\n",
       "      <td>Nhậpkhẩu</td>\n",
       "      <td>82.000km</td>\n",
       "      <td>NaN</td>\n",
       "      <td>NaN</td>\n",
       "    </tr>\n",
       "  </tbody>\n",
       "</table>\n",
       "<p>3260 rows × 7 columns</p>\n",
       "</div>"
      ],
      "text/plain": [
       "             Giá Năm sản xuất  Kiểu dáng    Xuất xứ Số km đã đi    Hộp số  \\\n",
       "0      845000000         2014      Sedan  Trongnước    78.858km  Sốtựđộng   \n",
       "1     1119000000         2016      Sedan  Trongnước    51.499km  Sốtựđộng   \n",
       "2     1789000000         2021        SUV   Nhậpkhẩu     8.000km  Sốtựđộng   \n",
       "3      520000000         2021        MPV   Nhậpkhẩu    10.000km     Sốtay   \n",
       "4      320000000         2009      Sedan  Trongnước    90.000km  Sốtựđộng   \n",
       "...          ...          ...        ...        ...         ...       ...   \n",
       "3255   898000000         2018      Sedan  Trongnước    50.000km  Sốtựđộng   \n",
       "3256   380000000         2014  Hatchback   Nhậpkhẩu    92.000km  Sốtựđộng   \n",
       "3257   127000000         1993      Sedan   Nhậpkhẩu    68.000km  Sốtựđộng   \n",
       "3258   565000000         2016        SUV   Nhậpkhẩu     6.000km  Sốtựđộng   \n",
       "3259   899000000         2014      Sedan   Nhậpkhẩu    82.000km       NaN   \n",
       "\n",
       "     Nhiên liệu  \n",
       "0           NaN  \n",
       "1          Xăng  \n",
       "2          Xăng  \n",
       "3          Xăng  \n",
       "4          Xăng  \n",
       "...         ...  \n",
       "3255       Xăng  \n",
       "3256       Xăng  \n",
       "3257       Xăng  \n",
       "3258     Diesel  \n",
       "3259        NaN  \n",
       "\n",
       "[3260 rows x 7 columns]"
      ]
     },
     "execution_count": 4,
     "metadata": {},
     "output_type": "execute_result"
    }
   ],
   "source": [
    "#loại bỏ trường dữ liệu không sử dụng\n",
    "data.drop(['Tên xe', 'Tình trạng', 'Tỉnh thành'], axis=1, inplace=True)\n",
    "data"
   ]
  },
  {
   "cell_type": "code",
   "execution_count": 5,
   "id": "9fb9fa71-432f-4e6a-9d17-a2d42b4b0091",
   "metadata": {},
   "outputs": [
    {
     "data": {
      "image/png": "[encoded data removed]",
      "text/plain": [
       "<Figure size 640x480 with 1 Axes>"
      ]
     },
     "metadata": {},
     "output_type": "display_data"
    }
   ],
   "source": [
    "#biểu đồ số lượng xe sản xuất theo từng năm\n",
    "data['Năm sản xuất'].value_counts().plot(kind='bar')\n",
    "plt.show()"
   ]
  },
  {
   "cell_type": "markdown",
   "id": "48d67045-54e5-4e5e-a36b-240a9f1fe17c",
   "metadata": {},
   "source": [
    "Có thể thấy tập dữ liệu thu thập thực tế có lỗi\n",
    "+ sai định dạng\n",
    "+ nhiễu\n",
    "+ trống\n"
   ]
  },
  {
   "cell_type": "code",
   "execution_count": 6,
   "id": "5340ab72-d268-4fba-9e8a-b47b65cad459",
   "metadata": {},
   "outputs": [
    {
     "name": "stdout",
     "output_type": "stream",
     "text": [
      "['845000000' '1119000000' '1789000000' '520000000' '320000000' '730000000'\n",
      " '678000000' '985000000' '1535000000' '2220000000' '395000000'\n",
      " '1380000000' '432000000' '6300000000' '3480000000' '689000000'\n",
      " '1275000000' '9590000000' '3680000000' '885000000' '345000000'\n",
      " '400000000' '552000000' '1510000000' '2650000000' '1289000000'\n",
      " '1450000000' '3699000000' '665000000' '360000000' '685000000'\n",
      " '1015000000' '1750000000' '1488000000' '1489000000' '735000000'\n",
      " '1199000000' '355000000' '1405000000' '700000000' '560000000'\n",
      " '1029000000' '1059000000' '1025000000' '592000000' '1270000000'\n",
      " '650000000' '755000000' '2950000000' '585000000' '1569000000'\n",
      " '1279000000' '2579000000' '15900000000' '3299000000' '920000000'\n",
      " '460000000' '1170000000' '9750000000' '85000000' '485000000' '340000000'\n",
      " '578000000' '275000000' '2240000000' '315000000' '1579000000' '365000000'\n",
      " '840000000' '2469000000' '568000000' '858000000' '220000000' '7290000000'\n",
      " '739000000' '530000000' '1555000000' '505000000' '4599000000' '835000000'\n",
      " '720000000' '1299000000' '955000000' '2680000000' '559000000'\n",
      " '1900000000' '3750000000' '3790000000' '229000000' '590000000'\n",
      " '899000000' '980000000' '525000000' '666000000' '2480000000' '430000000'\n",
      " '2100000000' '1150000000' '380000000' '280000000' '865000000' '640000000'\n",
      " '658000000' '580000000' '1185000000' '1400000000' '655000000' '940000000'\n",
      " '598000000' '1680000000' '838000000' '1790000000' '5868000000'\n",
      " '4680000000' '2660000000' '3900000000' '610000000' '368000000'\n",
      " '2920000000' '2850000000' '5600000000' '4468000000' '490000000'\n",
      " '5300000000' '2430000000' '5950000000' '5500000000' '3250000000'\n",
      " '465000000' '5388000000' '765000000' '1820000000' '2050000000'\n",
      " '1045000000' '860000000' '1630000000' '839000000' '5990000000'\n",
      " '1298000000' '415000000' '290000000' '2320000000' '225000000'\n",
      " '1030000000' '510000000' '4860000000' '2580000000' '1239000000'\n",
      " '688000000' '732000000' '1390000000' '1175000000' '1679000000'\n",
      " '1250000000' '1165000000' '6880000000' '1388000000' '995000000'\n",
      " '468000000' '939000000' '910000000' '829000000' '750000000' '1129000000'\n",
      " '7500000000' '5900000000' '3450000000' '1319000000' '1330000000'\n",
      " '1180000000' '669000000' '1339000000' '1009000000' '849000000'\n",
      " '799000000' '639000000' '699000000' '170000000' '12700000000' '785000000'\n",
      " '1300000000' '3980000000' '230000000' '935000000' '798000000'\n",
      " '1310000000' '660000000' '670000000' '605000000' '555000000' '240000000'\n",
      " '425000000' '435000000' '705000000' '2450000000' '1385000000'\n",
      " '1875000000' '825000000' '1040000000' '626000000' '728000000' '895000000'\n",
      " '780000000' '550000000' '1020000000' '488000000' '886000000' '1365000000'\n",
      " '855000000' '535000000' '905000000' '570000000' '1389000000' '870000000'\n",
      " '800000000' '558000000' '680000000' '950000000' '390000000' '363000000'\n",
      " '496000000' '620000000' '575000000' '375000000' '770000000' '938000000'\n",
      " '325000000' '1430000000' '1320000000' '822000000' '519000000' '979000000'\n",
      " '900000000' '1026000000' '725000000' '990000000' '469000000' '630000000'\n",
      " '279000000' '880000000' '686000000' '779000000' '539000000' '2790000000'\n",
      " '2280000000' '1280000000' '1480000000' '965000000' '3290000000'\n",
      " '695000000' '538000000' '1080000000' '635000000' '1038000000'\n",
      " '4065000000' '690000000' '512000000' '1360000000' '475000000'\n",
      " '2645000000' '515000000' '335000000' '202000000' '975000000' '1550000000'\n",
      " '215000000' '1350000000' '160000000' '450000000' '5199000000'\n",
      " '18900000000' '1370000000' '139000000' '445000000' '295000000'\n",
      " '210000000' '470000000' '1580000000' '609000000' '270000000' '410000000'\n",
      " '7900000000' '178000000' '385000000' '1111000000' '1799000000'\n",
      " '729000000' '850000000' '438000000' '495000000' '1219000000' '875000000'\n",
      " '245000000' '740000000' '846000000' '2600000000' '576000000' '476000000'\n",
      " '679000000' '1395000000' '305000000' '1085000000' '2550000000'\n",
      " '5800000000' '565000000' '1055000000' '1460000000' '1345000000'\n",
      " '1769000000' '579000000' '2720000000' '5490000000' '1969000000'\n",
      " '4150000000' '455000000' '398000000' '545000000' '1639000000'\n",
      " '2770000000' '350000000' '4189000000' '370000000' '6750000000'\n",
      " '3880000000' '1699000000' '1890000000' '165000000' '2500000000'\n",
      " '815000000' '13600000000' '39000000' '1355000000' '300000000'\n",
      " '2150000000' '790000000' '8900000000' '28990000000' '11990000000'\n",
      " '100000000' '710000000' '19500000000' '715000000' '1879000000'\n",
      " '1860000000' '2099000000' '2499000000' '197000000' '499000000'\n",
      " '228000000' '1690000000' '795000000' '369000000' '1200000000' '70000000'\n",
      " '1210000000' '599000000' '645000000' '1368000000' '1110000000'\n",
      " '772000000' '348000000' '2979000000' '998000000' '698000000' '1089000000'\n",
      " '498000000' '2080000000' '1469000000' '1130000000' '1220000000'\n",
      " '478000000' '108000000' '9700000000' '675000000' '480000000' '569000000'\n",
      " '615000000' '2700000000' '718000000' '3620000000' '760000000'\n",
      " '2940000000' '2079000000' '2395000000' '2375000000' '595000000'\n",
      " '1155000000' '641000000' '388000000' '1099000000' '367000000' '255000000'\n",
      " '1100000000' '1415000000' '2200000000' '4660000000' '318000000'\n",
      " '5350000000' '219000000' '439000000' '442000000' '768000000' '1090000000'\n",
      " '516000000' '4250000000' '4290000000' '9890000000' '6250000000'\n",
      " '1660000000' '970000000' '419000000' '1499000000' '420000000' '140000000'\n",
      " '789000000' '668000000' '272000000' '1066000000' '1120000000' '286000000'\n",
      " '848000000' '198000000' '250000000' '758000000' '308000000' '9500000000'\n",
      " '958000000' '612000000' '2090000000' '180000000' '1399000000' '648000000'\n",
      " '1230000000' '1950000000' '629000000' '1069000000' '288000000'\n",
      " '200000000' '1590000000' '399000000' '589000000' '195000000' '132000000'\n",
      " '185000000' '479000000' '459000000' '6600000000' '810000000' '396000000'\n",
      " '458000000' '960000000' '4780000000' '959000000' '696000000' '366000000'\n",
      " '500000000' '968000000' '386000000' '440000000' '908000000' '3838000000'\n",
      " '600000000' '32000000' '2780000000' 'Sốtựđộng' '2390000000' '1650000000'\n",
      " '1079000000' '188000000' '548000000' '2739000000' '299000000' '86000000'\n",
      " '588000000' '1570000000' '3920000000' '378000000' '809000000' '120000000'\n",
      " '242000000' '1700000000' '12800000000' 'Sốtay' '1600000000' '260000000'\n",
      " '1351000000' '148000000' '30000000' '78000000' '258000000' '405000000'\n",
      " '135000000' '358000000' '766000000' '330000000' '1050000000' '879000000'\n",
      " '2410000000' '352000000' '625000000' '1268000000' '2169000000'\n",
      " '394000000' '138000000' '285000000' '201000000' '105000000' '145000000'\n",
      " '115000000' nan '95000000' '2250000000' '745000000' '3890000000'\n",
      " '1565000000' '540000000' '7190000000' '449000000' '179000000' '278000000'\n",
      " '177000000' '1290000000' '343000000' '175000000' '199000000' '816000000'\n",
      " '209000000' '642000000' '898000000' '127000000' '190000000' '235000000'\n",
      " '483000000' '708000000' '513000000' '775000000' '1169000000' '9999000000'\n",
      " '2468000000' '522000000' '3666000000' '1620000000' '79000000'\n",
      " '1850000000' '890000000' '1190000000' '536000000' '4950000000'\n",
      " '2400000000' '1645000000' '4200000000' '6500000000' '1659000000'\n",
      " '3650000000' '3190000000' '3439000000' '4019000000' '2467000000'\n",
      " '1160000000' '1265000000' '9200000000' '1255000000' '551000000'\n",
      " '529000000' '189000000' '494000000' '338000000' '216000000' '238000000'\n",
      " '4190000000' '618000000' '1858000000' '259000000' '4199000000'\n",
      " '486000000' '2329000000' '649000000' '68000000' '4450000000' '2388000000'\n",
      " '868000000' '2939000000' '2030000000' '1105000000' '719000000'\n",
      " '2350000000' '2630000000' '2130000000' '462000000' '1888000000'\n",
      " '1470000000' '820000000' '1145000000' '4080000000' '1689000000'\n",
      " '329000000' '1188000000' '1568000000' '852000000' '408000000'\n",
      " '2290000000' '482000000' '389000000' '379000000' '168000000' '328000000'\n",
      " '125000000' '75000000' '226000000' '915000000' '805000000' '1777000000'\n",
      " '636000000' '206000000' '1019000000' '90000000' '65000000' '1730000000'\n",
      " '213000000' '5690000000' '7350000000' '2339000000' '1520000000'\n",
      " '3500000000' '1240000000' '582000000' '602000000' '103000000'\n",
      " '6690000000']\n"
     ]
    }
   ],
   "source": [
    "print(data['Giá'].unique())"
   ]
  },
  {
   "cell_type": "markdown",
   "id": "8af6870f-d0c4-41ea-b0a4-1f859c8317b7",
   "metadata": {},
   "source": [
    "Cột giá chứa những giá trị không giống như định dạng mong muốn là Sốtay, Sốtựđộng, NaN cần phải xử lý"
   ]
  },
  {
   "cell_type": "code",
   "execution_count": 34,
   "id": "56501e01-4a7b-44e6-9841-b4122ebecd8a",
   "metadata": {},
   "outputs": [],
   "source": [
    "data = data[~data['Giá'].str.contains('Sốtay')]\n",
    "data = data[~data['Giá'].str.contains('Sốtựđộng')]"
   ]
  },
  {
   "cell_type": "markdown",
   "id": "5c96e667-ec86-45ab-9673-b74e32dae2ef",
   "metadata": {},
   "source": [
    "Kiểm tra những giá trị sai, thiếu trong cột giá"
   ]
  },
  {
   "cell_type": "code",
   "execution_count": 35,
   "id": "15a4763d-32c7-4d79-baff-a352608427a5",
   "metadata": {},
   "outputs": [
    {
     "name": "stdout",
     "output_type": "stream",
     "text": [
      "0\n",
      "0\n"
     ]
    }
   ],
   "source": [
    "print((data['Giá'] == 'Sốtựđộng').sum())\n",
    "print((data['Giá'] == 'Sốtay').sum())"
   ]
  },
  {
   "cell_type": "code",
   "execution_count": 23,
   "id": "62c099f5-31ee-4a34-a274-fc3424107a15",
   "metadata": {},
   "outputs": [
    {
     "name": "stdout",
     "output_type": "stream",
     "text": [
      "3\n"
     ]
    }
   ],
   "source": [
    "#kiểm tra và xóa ô nan trong cột giá\n",
    "print(data['Giá'].isna().sum())\n",
    "data.dropna(subset=['Giá'], inplace=True)"
   ]
  },
  {
   "cell_type": "markdown",
   "id": "c7d3da57-6c38-424d-9e85-c716c5c8465e",
   "metadata": {},
   "source": [
    "xử lý xong cột Giá"
   ]
  },
  {
   "cell_type": "code",
   "execution_count": 7,
   "id": "155dc081-5c26-460e-a3b9-6aa8a87b885b",
   "metadata": {},
   "outputs": [
    {
     "name": "stdout",
     "output_type": "stream",
     "text": [
      "['2014' '2016' '2021' '2009' '2018' '2015' '2017' '2013' '2020' '2019'\n",
      " '2012' '2010' '2022' '2011' '2007' '1995' '2005' '2008' '2006' '2004'\n",
      " '1987' '2001' '2003' 'Xăng' '1980' nan 'Diesel' '2000' '2002' '1996'\n",
      " '1993' '1998']\n"
     ]
    }
   ],
   "source": [
    "print(data['Năm sản xuất'].unique())"
   ]
  },
  {
   "cell_type": "code",
   "execution_count": 38,
   "id": "e020616a-e07d-46d9-8071-3c10f2fa6465",
   "metadata": {},
   "outputs": [],
   "source": [
    "data = data[~data['Năm sản xuất'].str.contains('Xăng')]\n",
    "data = data[~data['Năm sản xuất'].str.contains('Diesel')]\n",
    "data.dropna(subset=['Năm sản xuất'], inplace=True)"
   ]
  },
  {
   "cell_type": "markdown",
   "id": "e23b0507-288e-40f0-b660-c531a27b66c7",
   "metadata": {},
   "source": [
    "Xử lý xong cột Năm sản xuất"
   ]
  },
  {
   "cell_type": "code",
   "execution_count": 43,
   "id": "23dea2e4-03de-4e45-be4a-5b05a3bac1f4",
   "metadata": {},
   "outputs": [],
   "source": [
    "data['Giá'] = data['Giá'].astype(float)\n",
    "data['Năm sản xuất'] = data['Năm sản xuất'].astype(int)"
   ]
  },
  {
   "cell_type": "markdown",
   "id": "5f6812ab-b4bf-4f84-8fc5-704f212c81b6",
   "metadata": {},
   "source": [
    "Chuyển 2 cột đã xử lý xong về dạng dữ liệu số"
   ]
  },
  {
   "cell_type": "code",
   "execution_count": 46,
   "id": "0b2c22b1-785b-4e72-8de8-2b9f2c47e8c9",
   "metadata": {},
   "outputs": [
    {
     "name": "stdout",
     "output_type": "stream",
     "text": [
      "['Sedan' 'SUV' 'MPV' 'Pick-upTruck' 'Hatchback' 'Convertible' 'CUV'\n",
      " 'Coupe' 'Van/Minivan' 'Đãquasửdụng' 'SportCar' 'Truck']\n"
     ]
    }
   ],
   "source": [
    "print(data['Kiểu dáng'].unique())\n",
    "data.dropna(subset=['Kiểu dáng'], inplace=True)"
   ]
  },
  {
   "cell_type": "code",
   "execution_count": 47,
   "id": "6a896e7b-6b27-4dbe-ad5b-82e091f8d557",
   "metadata": {},
   "outputs": [],
   "source": [
    "data = data[~data['Kiểu dáng'].str.contains('Đãquasửdụng')]"
   ]
  },
  {
   "cell_type": "code",
   "execution_count": 50,
   "id": "c060d039-e348-445f-9a7f-117b0b85199b",
   "metadata": {},
   "outputs": [
    {
     "name": "stdout",
     "output_type": "stream",
     "text": [
      "['Trongnước' 'Nhậpkhẩu']\n"
     ]
    }
   ],
   "source": [
    "print(data['Xuất xứ'].unique())"
   ]
  },
  {
   "cell_type": "markdown",
   "id": "e99f04c4-f363-4246-b910-704979396cc7",
   "metadata": {},
   "source": [
    "Xử lý xong cột Kiểu dáng, Xuất sứ"
   ]
  },
  {
   "cell_type": "code",
   "execution_count": 10,
   "id": "3414c11e-e7e0-45c0-aef6-dfd0e3b9b0af",
   "metadata": {},
   "outputs": [
    {
     "name": "stdout",
     "output_type": "stream",
     "text": [
      "['78.858km' '51.499km' '8.000km' '10.000km' '90.000km' '68.000km'\n",
      " '65.000km' '46.000km' '40.000km' '120.000km' '50.000km' '14.484km'\n",
      " '84.261km' '25.500km' '4.000km' '7.400km' '66.000km' '110.000km'\n",
      " '160.000km' '150.000km' '59.546km' '16.000km' '6.999km' '26.300km'\n",
      " '12.000km' '190.000km' '5.000km' '27.000km' '22.000km' '89.000km'\n",
      " '136.000km' '57.000km' '32.000km' '11.000km' '34.000km' '30.000km'\n",
      " 'HàNội' '100.000km' '80.000km' '79.283km' '67.899km' '38.000km'\n",
      " '19.238km' '7.000km' '180.000km' '26.000km' '58.000km' '88.000km'\n",
      " '101.000km' '15.000km' '106.000km' '37.000km' '69.000km' '35.000km'\n",
      " '59.000km' '13.329km' '5.800km' '30.900km' '72.000km' '54.718km'\n",
      " '60.000km' '125.000km' '32.187km' '86.000km' '128.000km' '24.000km'\n",
      " '55.000km' '29.000km' '14.000km' '37km' '23.551km' '28.000km' '27.568km'\n",
      " '53.108km' '84.000km' '79.000km' '53.000km' '75.000km' '130.000km'\n",
      " '57.936km' '2.247km' '25.000km' '56.000km' '48.000km' '11.265km'\n",
      " '32.994km' '330.000km' '70.000km' '6.000km' '42.000km' '72.420km'\n",
      " '36.000km' '44.000km' '9.900km' '6.800km' '33.000km' '8.047km' '41.000km'\n",
      " '20.000km' '19.312km' '93.000km' '45.000km' '9.000km' '200.000km'\n",
      " '2.000km' '220.000km' '75.639km' 'Tp.HCM' '11.000.000km' '45.062km'\n",
      " '39.000km' '18.000km' '67.000km' '64.000km' '52.000km' '73.000km'\n",
      " '3.700km' '56.789km' '71.000km' '13.000km' '64.373km' '51.968km'\n",
      " '43.000km' '23.000km' '112.000km' '95.000km' '140.000km' '1.700km'\n",
      " '78.000km' '99.999km' '62.000km' '82.000km' '77.000km' '900km'\n",
      " '142.000km' '58.400km' 'ĐồngNai' '24.140km' '97.000km' '63.000km'\n",
      " '21.000km' '400.000km' '76.000km' '1.300km' '47.000km' '111.045km'\n",
      " '87.000km' '51.000km' '63.300km' '12.345km' '9.500km' '35.406km'\n",
      " '56.327km' '83.686km' '76.500km' '49.000km' '5.500km' '15km' '20km'\n",
      " '30km' '112.654km' '700km' '31.000km' '48.280km' '81.000km' '115.929km'\n",
      " 'BìnhDương' '300.000km' '12.157km' '99.000km' '98.000km' '61.000km'\n",
      " '61.155km' '10km' '4.123km' '36.985km' '64.687km' '81.800km'\n",
      " '120.000.000km' '66km' '85.000km' '12.212km' '46.671km' '34.567km'\n",
      " '109.000km' '19.000km' '6.200km' '36.298km' '91.000km' '199.000km'\n",
      " '172.000km' '78.223km' '105.000km' '90km' '14.685km' '250.000km'\n",
      " '103.000km' '118.000km' 'HảiPhòng' '94.000km' '54.000km' '170.000km'\n",
      " '7.600km' '19.922km' '102.304km' '157.000km' '111.111km' '99.779km'\n",
      " '190km' '50km' '82.367km' 'BìnhPhước' '30.800km' 'QuảngTrị' '67.450km'\n",
      " '105.600km' '117.600km' nan '42.222km' '3.457km' '188.000km' '12.646km'\n",
      " '490km' '2.200km' '3.100km' '1.900km' '163.000km' 'NinhBình' '208.000km'\n",
      " '83.000km' '137.000km' 'BàRịaVũngTàu' '144.000km' '5.201km' 'NghệAn'\n",
      " '240.000km' '3.000km' '114.000km' '23.588km' '21.501km' '17.000km'\n",
      " '22.800km' '149.000km' '145.000km' '8.600km' '92.000km' '66.666km'\n",
      " '82.532km' '350.000km' '168.000km' '101.101km' '113.000km' '134.000km'\n",
      " '117.000km' 'VĩnhPhúc' '115.000km' '25.300km' '30.578km' '12.070km'\n",
      " '49.890km' 'ĐàNẵng' '28.968km' '6.500km' '107.826km' '146.000km'\n",
      " '78.500km' '89.068km' '96.000km' '12.875km' '131.285km' '1.000km'\n",
      " '97.600km' '2.600km' '860km' '98.500km' '96.561km' '48.551km' '74.500km'\n",
      " '756km' '82.689km' '89.696km' '84.359km' '80.654km' '86.151km' '64.865km'\n",
      " '165.000km' '460.000km' '8.900km' '850.000km' '3.000.000km' '87.600km'\n",
      " '16.364km' '22.013km' '333.333km']\n"
     ]
    }
   ],
   "source": [
    "print(data['Số km đã đi'].unique())"
   ]
  },
  {
   "cell_type": "code",
   "execution_count": 51,
   "id": "a3432e5a-c630-4fc9-9022-09f9936bcf0e",
   "metadata": {},
   "outputs": [],
   "source": [
    "# Xóa \"km\" từ cột 'Số km đã đi'\n",
    "data['Số km đã đi'] = data['Số km đã đi'].str.replace('km', '')"
   ]
  },
  {
   "cell_type": "code",
   "execution_count": 52,
   "id": "e25c50e3-da5e-4255-ada7-55539addaa04",
   "metadata": {},
   "outputs": [
    {
     "name": "stdout",
     "output_type": "stream",
     "text": [
      "['78.858' '51.499' '8.000' '10.000' '90.000' '68.000' '65.000' '46.000'\n",
      " '40.000' '120.000' '50.000' '14.484' '84.261' '25.500' '4.000' '7.400'\n",
      " '66.000' '110.000' '160.000' '150.000' '59.546' '16.000' '6.999' '26.300'\n",
      " '12.000' '190.000' '5.000' '27.000' '22.000' '89.000' '136.000' '57.000'\n",
      " '32.000' '11.000' '34.000' '30.000' 'HàNội' '100.000' '80.000' '79.283'\n",
      " '67.899' '38.000' '19.238' '7.000' '180.000' '26.000' '58.000' '88.000'\n",
      " '101.000' '15.000' '106.000' '37.000' '69.000' '35.000' '59.000' '13.329'\n",
      " '5.800' '30.900' '72.000' '54.718' '60.000' '125.000' '32.187' '86.000'\n",
      " '128.000' '24.000' '55.000' '29.000' '14.000' '37' '23.551' '28.000'\n",
      " '27.568' '53.108' '84.000' '79.000' '53.000' '75.000' '130.000' '57.936'\n",
      " '2.247' '25.000' '56.000' '48.000' '11.265' '32.994' '330.000' '70.000'\n",
      " '6.000' '42.000' '72.420' '36.000' '44.000' '9.900' '6.800' '33.000'\n",
      " '8.047' '41.000' '20.000' '19.312' '93.000' '45.000' '9.000' '200.000'\n",
      " '2.000' '220.000' '75.639' '11.000.000' '45.062' '39.000' '18.000'\n",
      " '67.000' '64.000' '52.000' '73.000' '3.700' '56.789' '71.000' '13.000'\n",
      " '64.373' '51.968' '43.000' '23.000' 'Tp.HCM' '112.000' '95.000' '140.000'\n",
      " '1.700' '78.000' '99.999' '62.000' '82.000' '77.000' '900' '142.000'\n",
      " '58.400' 'ĐồngNai' '24.140' '97.000' '63.000' '21.000' '400.000' '76.000'\n",
      " '1.300' '47.000' '111.045' '87.000' '51.000' '63.300' '12.345' '9.500'\n",
      " '35.406' '56.327' '83.686' '76.500' '49.000' '5.500' '15' '20' '30'\n",
      " '112.654' '700' '31.000' '48.280' '81.000' '115.929' 'BìnhDương'\n",
      " '300.000' '12.157' '99.000' '98.000' '61.000' '61.155' '10' '4.123'\n",
      " '36.985' '64.687' '81.800' '120.000.000' '66' '85.000' '12.212' '46.671'\n",
      " '34.567' '109.000' '19.000' '6.200' '36.298' '91.000' '199.000' '172.000'\n",
      " '78.223' '105.000' '90' '14.685' '250.000' '103.000' '118.000' 'HảiPhòng'\n",
      " '94.000' '54.000' '170.000' '7.600' '19.922' '102.304' '157.000'\n",
      " '111.111' '99.779' '190' '50' '82.367' 'BìnhPhước' '30.800' 'QuảngTrị'\n",
      " '67.450' '105.600' '117.600' '42.222' '3.457' '188.000' '12.646' '490'\n",
      " nan '2.200' '3.100' '1.900' '163.000' 'NinhBình' '208.000' '83.000'\n",
      " '137.000' 'BàRịaVũngTàu' '144.000' '5.201' 'NghệAn' '240.000' '3.000'\n",
      " '114.000' '23.588' '21.501' '17.000' '22.800' '149.000' '145.000' '8.600'\n",
      " '92.000' '66.666' '82.532' '350.000' '168.000' '101.101' '113.000'\n",
      " '134.000' '117.000' 'VĩnhPhúc' '115.000' '25.300' '30.578' '12.070'\n",
      " '49.890' 'ĐàNẵng' '28.968' '6.500' '107.826' '146.000' '78.500' '89.068'\n",
      " '96.000' '12.875' '131.285' '1.000' '97.600' '2.600' '860' '98.500'\n",
      " '96.561' '48.551' '74.500' '756' '82.689' '89.696' '84.359' '80.654'\n",
      " '86.151' '64.865' '165.000' '460.000' '8.900' '850.000' '3.000.000'\n",
      " '87.600' '16.364' '22.013' '333.333']\n"
     ]
    }
   ],
   "source": [
    "print(data['Số km đã đi'].unique())"
   ]
  },
  {
   "cell_type": "code",
   "execution_count": 53,
   "id": "16c43986-d5ab-4a82-b765-101c9eb05980",
   "metadata": {},
   "outputs": [],
   "source": [
    "# Loại bỏ các giá trị sai\n",
    "data = data[data[\"Số km đã đi\"] != \"HàNội\"]\n",
    "data = data[data[\"Số km đã đi\"] != \"Tp.HCM\"]\n",
    "data = data[data[\"Số km đã đi\"] != \"BìnhDương\"]\n",
    "data = data[data[\"Số km đã đi\"] != \"HảiPhòng\"]\n",
    "data = data[data[\"Số km đã đi\"] != \"BìnhPhước\"]\n",
    "data = data[data[\"Số km đã đi\"] != \"NinhBình\"]\n",
    "data = data[data[\"Số km đã đi\"] != \"BàRịaVũngTàu\"]\n",
    "data = data[data[\"Số km đã đi\"] != \"VĩnhPhúc\"]\n",
    "data = data[data[\"Số km đã đi\"] != \"ĐàNẵng\"]"
   ]
  },
  {
   "cell_type": "code",
   "execution_count": 56,
   "id": "4e7cb657-632a-4238-b5e8-3dcfa1424e2d",
   "metadata": {},
   "outputs": [],
   "source": [
    "data = data[data[\"Số km đã đi\"] != \"ĐồngNai\"]\n",
    "data = data[data[\"Số km đã đi\"] != \"QuảngTrị\"]\n",
    "data = data[data[\"Số km đã đi\"] != \"NghệAn\"]"
   ]
  },
  {
   "cell_type": "code",
   "execution_count": 54,
   "id": "426b10ca-f409-4d7d-b072-255afc1e3362",
   "metadata": {},
   "outputs": [],
   "source": [
    "#xóa các giá trị NaN \n",
    "data.dropna(subset=[\"Số km đã đi\"], inplace=True"
   ]
  },
  {
   "cell_type": "code",
   "execution_count": 102,
   "id": "7427011e-4804-4dd7-82a9-450586064aec",
   "metadata": {},
   "outputs": [],
   "source": [
    "# Loại bỏ dấu chấm phân tách phần ngàn từ chuỗi\n",
    "data[\"Số km đã đi\"] = data[\"Số km đã đi\"].str.replace('.', '')"
   ]
  },
  {
   "cell_type": "code",
   "execution_count": 103,
   "id": "7b0e7a2d-df9b-4dd2-b67d-6018332cd678",
   "metadata": {},
   "outputs": [],
   "source": [
    "# Chuyển đổi kiểu dữ liệu từ chuỗi sang số nguyên\n",
    "data[\"Số km đã đi\"] = data[\"Số km đã đi\"].astype(float)"
   ]
  },
  {
   "cell_type": "markdown",
   "id": "90ee69e6-d8cb-49a4-9522-3dc1a6e9ecc3",
   "metadata": {},
   "source": [
    "Xử lý xong cột Số km đã đi"
   ]
  },
  {
   "cell_type": "code",
   "execution_count": 11,
   "id": "dd1fd213-ee32-4a74-89bc-2f680515f712",
   "metadata": {},
   "outputs": [
    {
     "name": "stdout",
     "output_type": "stream",
     "text": [
      "['Sốtựđộng' 'Sốtay' nan 'Xăng' 'Diesel' 'Sốhỗnhợp']\n"
     ]
    }
   ],
   "source": [
    "print(data['Hộp số'].unique())"
   ]
  },
  {
   "cell_type": "code",
   "execution_count": 59,
   "id": "5fadb120-4081-453f-a3ce-c7b16f807463",
   "metadata": {},
   "outputs": [],
   "source": [
    "data = data[data[\"Hộp số\"] != \"Xăng\"]\n",
    "data = data[data[\"Hộp số\"] != \"Diesel\"]\n",
    "data.dropna(subset=[\"Hộp số\"], inplace=True)"
   ]
  },
  {
   "cell_type": "markdown",
   "id": "3b7be30e-65bd-4343-9040-55e6a52c5709",
   "metadata": {},
   "source": [
    "Xử lý xong cột Hộp số"
   ]
  },
  {
   "cell_type": "code",
   "execution_count": 12,
   "id": "94e14ba9-313b-4ca1-a886-db4498e844de",
   "metadata": {},
   "outputs": [
    {
     "name": "stdout",
     "output_type": "stream",
     "text": [
      "[nan 'Xăng' 'Diesel' 'Loạikhác']\n"
     ]
    }
   ],
   "source": [
    "print(data['Nhiên liệu'].unique())"
   ]
  },
  {
   "cell_type": "code",
   "execution_count": 61,
   "id": "131cedf5-4480-4102-9bf8-c39b27ededbd",
   "metadata": {},
   "outputs": [],
   "source": [
    "data.dropna(subset=[\"Nhiên liệu\"], inplace=True)"
   ]
  },
  {
   "cell_type": "markdown",
   "id": "856341b9-1119-41eb-9c1c-8daa361c3026",
   "metadata": {},
   "source": [
    "Xử lý xong cột Nhiên liệu"
   ]
  },
  {
   "cell_type": "code",
   "execution_count": 63,
   "id": "0047a7f3-fcd0-4028-9de5-ba5f9c83dc53",
   "metadata": {},
   "outputs": [
    {
     "name": "stdout",
     "output_type": "stream",
     "text": [
      "<class 'pandas.core.frame.DataFrame'>\n",
      "Index: 2296 entries, 1 to 3258\n",
      "Data columns (total 7 columns):\n",
      " #   Column        Non-Null Count  Dtype  \n",
      "---  ------        --------------  -----  \n",
      " 0   Giá           2296 non-null   float64\n",
      " 1   Năm sản xuất  2296 non-null   int32  \n",
      " 2   Kiểu dáng     2296 non-null   object \n",
      " 3   Xuất xứ       2296 non-null   object \n",
      " 4   Số km đã đi   2296 non-null   object \n",
      " 5   Hộp số        2296 non-null   object \n",
      " 6   Nhiên liệu    2296 non-null   object \n",
      "dtypes: float64(1), int32(1), object(5)\n",
      "memory usage: 134.5+ KB\n"
     ]
    }
   ],
   "source": [
    "data.info()"
   ]
  },
  {
   "cell_type": "code",
   "execution_count": 64,
   "id": "183f520f-9d00-450e-af49-3a697dc36d60",
   "metadata": {},
   "outputs": [
    {
     "name": "stdout",
     "output_type": "stream",
     "text": [
      "Giá             0\n",
      "Năm sản xuất    0\n",
      "Kiểu dáng       0\n",
      "Xuất xứ         0\n",
      "Số km đã đi     0\n",
      "Hộp số          0\n",
      "Nhiên liệu      0\n",
      "dtype: int64\n"
     ]
    }
   ],
   "source": [
    "print(data.isnull().sum())"
   ]
  },
  {
   "cell_type": "code",
   "execution_count": 66,
   "id": "ffc1f2fe-6307-488e-915e-64e12360bd5f",
   "metadata": {},
   "outputs": [
    {
     "name": "stdout",
     "output_type": "stream",
     "text": [
      "Giá             0\n",
      "Năm sản xuất    0\n",
      "Kiểu dáng       0\n",
      "Xuất xứ         0\n",
      "Số km đã đi     0\n",
      "Hộp số          0\n",
      "Nhiên liệu      0\n",
      "dtype: int64\n"
     ]
    }
   ],
   "source": [
    "print(data.isna().sum())"
   ]
  },
  {
   "cell_type": "code",
   "execution_count": 65,
   "id": "cbe967b0-7f7f-4d88-911e-5676808180b5",
   "metadata": {},
   "outputs": [
    {
     "data": {
      "text/html": [
       "<div>\n",
       "<style scoped>\n",
       "    .dataframe tbody tr th:only-of-type {\n",
       "        vertical-align: middle;\n",
       "    }\n",
       "\n",
       "    .dataframe tbody tr th {\n",
       "        vertical-align: top;\n",
       "    }\n",
       "\n",
       "    .dataframe thead th {\n",
       "        text-align: right;\n",
       "    }\n",
       "</style>\n",
       "<table border=\"1\" class=\"dataframe\">\n",
       "  <thead>\n",
       "    <tr style=\"text-align: right;\">\n",
       "      <th></th>\n",
       "      <th>Giá</th>\n",
       "      <th>Năm sản xuất</th>\n",
       "      <th>Kiểu dáng</th>\n",
       "      <th>Xuất xứ</th>\n",
       "      <th>Số km đã đi</th>\n",
       "      <th>Hộp số</th>\n",
       "      <th>Nhiên liệu</th>\n",
       "    </tr>\n",
       "  </thead>\n",
       "  <tbody>\n",
       "    <tr>\n",
       "      <th>1</th>\n",
       "      <td>1.119000e+09</td>\n",
       "      <td>2016</td>\n",
       "      <td>Sedan</td>\n",
       "      <td>Trongnước</td>\n",
       "      <td>51.499</td>\n",
       "      <td>Sốtựđộng</td>\n",
       "      <td>Xăng</td>\n",
       "    </tr>\n",
       "    <tr>\n",
       "      <th>2</th>\n",
       "      <td>1.789000e+09</td>\n",
       "      <td>2021</td>\n",
       "      <td>SUV</td>\n",
       "      <td>Nhậpkhẩu</td>\n",
       "      <td>8.000</td>\n",
       "      <td>Sốtựđộng</td>\n",
       "      <td>Xăng</td>\n",
       "    </tr>\n",
       "    <tr>\n",
       "      <th>3</th>\n",
       "      <td>5.200000e+08</td>\n",
       "      <td>2021</td>\n",
       "      <td>MPV</td>\n",
       "      <td>Nhậpkhẩu</td>\n",
       "      <td>10.000</td>\n",
       "      <td>Sốtay</td>\n",
       "      <td>Xăng</td>\n",
       "    </tr>\n",
       "    <tr>\n",
       "      <th>4</th>\n",
       "      <td>3.200000e+08</td>\n",
       "      <td>2009</td>\n",
       "      <td>Sedan</td>\n",
       "      <td>Trongnước</td>\n",
       "      <td>90.000</td>\n",
       "      <td>Sốtựđộng</td>\n",
       "      <td>Xăng</td>\n",
       "    </tr>\n",
       "    <tr>\n",
       "      <th>5</th>\n",
       "      <td>7.300000e+08</td>\n",
       "      <td>2016</td>\n",
       "      <td>SUV</td>\n",
       "      <td>Trongnước</td>\n",
       "      <td>68.000</td>\n",
       "      <td>Sốtựđộng</td>\n",
       "      <td>Xăng</td>\n",
       "    </tr>\n",
       "    <tr>\n",
       "      <th>...</th>\n",
       "      <td>...</td>\n",
       "      <td>...</td>\n",
       "      <td>...</td>\n",
       "      <td>...</td>\n",
       "      <td>...</td>\n",
       "      <td>...</td>\n",
       "      <td>...</td>\n",
       "    </tr>\n",
       "    <tr>\n",
       "      <th>3254</th>\n",
       "      <td>6.420000e+08</td>\n",
       "      <td>2018</td>\n",
       "      <td>Pick-upTruck</td>\n",
       "      <td>Nhậpkhẩu</td>\n",
       "      <td>15.000</td>\n",
       "      <td>Sốtựđộng</td>\n",
       "      <td>Diesel</td>\n",
       "    </tr>\n",
       "    <tr>\n",
       "      <th>3255</th>\n",
       "      <td>8.980000e+08</td>\n",
       "      <td>2018</td>\n",
       "      <td>Sedan</td>\n",
       "      <td>Trongnước</td>\n",
       "      <td>50.000</td>\n",
       "      <td>Sốtựđộng</td>\n",
       "      <td>Xăng</td>\n",
       "    </tr>\n",
       "    <tr>\n",
       "      <th>3256</th>\n",
       "      <td>3.800000e+08</td>\n",
       "      <td>2014</td>\n",
       "      <td>Hatchback</td>\n",
       "      <td>Nhậpkhẩu</td>\n",
       "      <td>92.000</td>\n",
       "      <td>Sốtựđộng</td>\n",
       "      <td>Xăng</td>\n",
       "    </tr>\n",
       "    <tr>\n",
       "      <th>3257</th>\n",
       "      <td>1.270000e+08</td>\n",
       "      <td>1993</td>\n",
       "      <td>Sedan</td>\n",
       "      <td>Nhậpkhẩu</td>\n",
       "      <td>68.000</td>\n",
       "      <td>Sốtựđộng</td>\n",
       "      <td>Xăng</td>\n",
       "    </tr>\n",
       "    <tr>\n",
       "      <th>3258</th>\n",
       "      <td>5.650000e+08</td>\n",
       "      <td>2016</td>\n",
       "      <td>SUV</td>\n",
       "      <td>Nhậpkhẩu</td>\n",
       "      <td>6.000</td>\n",
       "      <td>Sốtựđộng</td>\n",
       "      <td>Diesel</td>\n",
       "    </tr>\n",
       "  </tbody>\n",
       "</table>\n",
       "<p>2296 rows × 7 columns</p>\n",
       "</div>"
      ],
      "text/plain": [
       "               Giá  Năm sản xuất     Kiểu dáng    Xuất xứ Số km đã đi  \\\n",
       "1     1.119000e+09          2016         Sedan  Trongnước      51.499   \n",
       "2     1.789000e+09          2021           SUV   Nhậpkhẩu       8.000   \n",
       "3     5.200000e+08          2021           MPV   Nhậpkhẩu      10.000   \n",
       "4     3.200000e+08          2009         Sedan  Trongnước      90.000   \n",
       "5     7.300000e+08          2016           SUV  Trongnước      68.000   \n",
       "...            ...           ...           ...        ...         ...   \n",
       "3254  6.420000e+08          2018  Pick-upTruck   Nhậpkhẩu      15.000   \n",
       "3255  8.980000e+08          2018         Sedan  Trongnước      50.000   \n",
       "3256  3.800000e+08          2014     Hatchback   Nhậpkhẩu      92.000   \n",
       "3257  1.270000e+08          1993         Sedan   Nhậpkhẩu      68.000   \n",
       "3258  5.650000e+08          2016           SUV   Nhậpkhẩu       6.000   \n",
       "\n",
       "        Hộp số Nhiên liệu  \n",
       "1     Sốtựđộng       Xăng  \n",
       "2     Sốtựđộng       Xăng  \n",
       "3        Sốtay       Xăng  \n",
       "4     Sốtựđộng       Xăng  \n",
       "5     Sốtựđộng       Xăng  \n",
       "...        ...        ...  \n",
       "3254  Sốtựđộng     Diesel  \n",
       "3255  Sốtựđộng       Xăng  \n",
       "3256  Sốtựđộng       Xăng  \n",
       "3257  Sốtựđộng       Xăng  \n",
       "3258  Sốtựđộng     Diesel  \n",
       "\n",
       "[2296 rows x 7 columns]"
      ]
     },
     "execution_count": 65,
     "metadata": {},
     "output_type": "execute_result"
    }
   ],
   "source": [
    "data"
   ]
  },
  {
   "cell_type": "code",
   "execution_count": 4,
   "id": "fffa71e3-57f0-4b3f-9d48-266c755f83f0",
   "metadata": {},
   "outputs": [],
   "source": [
    "df[\"Số km đã đi\"] = df[\"Số km đã đi\"].str.replace(\".\", \"\")\n",
    "\n",
    "# Chuyển đổi kiểu dữ liệu\n",
    "df[\"Số km đã đi\"] = df[\"Số km đã đi\"].astype(float) "
   ]
  },
  {
   "cell_type": "code",
   "execution_count": 67,
   "id": "de25f683-02d3-4fed-bc82-d8692441122f",
   "metadata": {},
   "outputs": [],
   "source": [
    "#lưu dữ liệu vào file tên : data_processed \n",
    "# data.to_csv('data_processed.csv', index=False)"
   ]
  },
  {
   "cell_type": "code",
   "execution_count": 2,
   "id": "8e5359c9-cff3-4070-b608-32f1a7943677",
   "metadata": {},
   "outputs": [
    {
     "data": {
      "text/html": [
       "<div>\n",
       "<style scoped>\n",
       "    .dataframe tbody tr th:only-of-type {\n",
       "        vertical-align: middle;\n",
       "    }\n",
       "\n",
       "    .dataframe tbody tr th {\n",
       "        vertical-align: top;\n",
       "    }\n",
       "\n",
       "    .dataframe thead th {\n",
       "        text-align: right;\n",
       "    }\n",
       "</style>\n",
       "<table border=\"1\" class=\"dataframe\">\n",
       "  <thead>\n",
       "    <tr style=\"text-align: right;\">\n",
       "      <th></th>\n",
       "      <th>Giá</th>\n",
       "      <th>Năm sản xuất</th>\n",
       "      <th>Kiểu dáng</th>\n",
       "      <th>Xuất xứ</th>\n",
       "      <th>Số km đã đi</th>\n",
       "      <th>Hộp số</th>\n",
       "      <th>Nhiên liệu</th>\n",
       "    </tr>\n",
       "  </thead>\n",
       "  <tbody>\n",
       "    <tr>\n",
       "      <th>0</th>\n",
       "      <td>1.119000e+09</td>\n",
       "      <td>2016</td>\n",
       "      <td>Sedan</td>\n",
       "      <td>Trongnước</td>\n",
       "      <td>51.499</td>\n",
       "      <td>Sốtựđộng</td>\n",
       "      <td>Xăng</td>\n",
       "    </tr>\n",
       "    <tr>\n",
       "      <th>1</th>\n",
       "      <td>1.789000e+09</td>\n",
       "      <td>2021</td>\n",
       "      <td>SUV</td>\n",
       "      <td>Nhậpkhẩu</td>\n",
       "      <td>8.000</td>\n",
       "      <td>Sốtựđộng</td>\n",
       "      <td>Xăng</td>\n",
       "    </tr>\n",
       "    <tr>\n",
       "      <th>2</th>\n",
       "      <td>5.200000e+08</td>\n",
       "      <td>2021</td>\n",
       "      <td>MPV</td>\n",
       "      <td>Nhậpkhẩu</td>\n",
       "      <td>10.000</td>\n",
       "      <td>Sốtay</td>\n",
       "      <td>Xăng</td>\n",
       "    </tr>\n",
       "    <tr>\n",
       "      <th>3</th>\n",
       "      <td>3.200000e+08</td>\n",
       "      <td>2009</td>\n",
       "      <td>Sedan</td>\n",
       "      <td>Trongnước</td>\n",
       "      <td>90.000</td>\n",
       "      <td>Sốtựđộng</td>\n",
       "      <td>Xăng</td>\n",
       "    </tr>\n",
       "    <tr>\n",
       "      <th>4</th>\n",
       "      <td>7.300000e+08</td>\n",
       "      <td>2016</td>\n",
       "      <td>SUV</td>\n",
       "      <td>Trongnước</td>\n",
       "      <td>68.000</td>\n",
       "      <td>Sốtựđộng</td>\n",
       "      <td>Xăng</td>\n",
       "    </tr>\n",
       "    <tr>\n",
       "      <th>...</th>\n",
       "      <td>...</td>\n",
       "      <td>...</td>\n",
       "      <td>...</td>\n",
       "      <td>...</td>\n",
       "      <td>...</td>\n",
       "      <td>...</td>\n",
       "      <td>...</td>\n",
       "    </tr>\n",
       "    <tr>\n",
       "      <th>2291</th>\n",
       "      <td>6.420000e+08</td>\n",
       "      <td>2018</td>\n",
       "      <td>Pick-upTruck</td>\n",
       "      <td>Nhậpkhẩu</td>\n",
       "      <td>15.000</td>\n",
       "      <td>Sốtựđộng</td>\n",
       "      <td>Diesel</td>\n",
       "    </tr>\n",
       "    <tr>\n",
       "      <th>2292</th>\n",
       "      <td>8.980000e+08</td>\n",
       "      <td>2018</td>\n",
       "      <td>Sedan</td>\n",
       "      <td>Trongnước</td>\n",
       "      <td>50.000</td>\n",
       "      <td>Sốtựđộng</td>\n",
       "      <td>Xăng</td>\n",
       "    </tr>\n",
       "    <tr>\n",
       "      <th>2293</th>\n",
       "      <td>3.800000e+08</td>\n",
       "      <td>2014</td>\n",
       "      <td>Hatchback</td>\n",
       "      <td>Nhậpkhẩu</td>\n",
       "      <td>92.000</td>\n",
       "      <td>Sốtựđộng</td>\n",
       "      <td>Xăng</td>\n",
       "    </tr>\n",
       "    <tr>\n",
       "      <th>2294</th>\n",
       "      <td>1.270000e+08</td>\n",
       "      <td>1993</td>\n",
       "      <td>Sedan</td>\n",
       "      <td>Nhậpkhẩu</td>\n",
       "      <td>68.000</td>\n",
       "      <td>Sốtựđộng</td>\n",
       "      <td>Xăng</td>\n",
       "    </tr>\n",
       "    <tr>\n",
       "      <th>2295</th>\n",
       "      <td>5.650000e+08</td>\n",
       "      <td>2016</td>\n",
       "      <td>SUV</td>\n",
       "      <td>Nhậpkhẩu</td>\n",
       "      <td>6.000</td>\n",
       "      <td>Sốtựđộng</td>\n",
       "      <td>Diesel</td>\n",
       "    </tr>\n",
       "  </tbody>\n",
       "</table>\n",
       "<p>2296 rows × 7 columns</p>\n",
       "</div>"
      ],
      "text/plain": [
       "               Giá  Năm sản xuất     Kiểu dáng    Xuất xứ Số km đã đi  \\\n",
       "0     1.119000e+09          2016         Sedan  Trongnước      51.499   \n",
       "1     1.789000e+09          2021           SUV   Nhậpkhẩu       8.000   \n",
       "2     5.200000e+08          2021           MPV   Nhậpkhẩu      10.000   \n",
       "3     3.200000e+08          2009         Sedan  Trongnước      90.000   \n",
       "4     7.300000e+08          2016           SUV  Trongnước      68.000   \n",
       "...            ...           ...           ...        ...         ...   \n",
       "2291  6.420000e+08          2018  Pick-upTruck   Nhậpkhẩu      15.000   \n",
       "2292  8.980000e+08          2018         Sedan  Trongnước      50.000   \n",
       "2293  3.800000e+08          2014     Hatchback   Nhậpkhẩu      92.000   \n",
       "2294  1.270000e+08          1993         Sedan   Nhậpkhẩu      68.000   \n",
       "2295  5.650000e+08          2016           SUV   Nhậpkhẩu       6.000   \n",
       "\n",
       "        Hộp số Nhiên liệu  \n",
       "0     Sốtựđộng       Xăng  \n",
       "1     Sốtựđộng       Xăng  \n",
       "2        Sốtay       Xăng  \n",
       "3     Sốtựđộng       Xăng  \n",
       "4     Sốtựđộng       Xăng  \n",
       "...        ...        ...  \n",
       "2291  Sốtựđộng     Diesel  \n",
       "2292  Sốtựđộng       Xăng  \n",
       "2293  Sốtựđộng       Xăng  \n",
       "2294  Sốtựđộng       Xăng  \n",
       "2295  Sốtựđộng     Diesel  \n",
       "\n",
       "[2296 rows x 7 columns]"
      ]
     },
     "execution_count": 2,
     "metadata": {},
     "output_type": "execute_result"
    }
   ],
   "source": [
    "df= pd.read_csv('data_processed.csv')\n",
    "df"
   ]
  },
  {
   "cell_type": "code",
   "execution_count": 6,
   "id": "8ed089c7-0966-4864-8a76-798714f95d2f",
   "metadata": {},
   "outputs": [],
   "source": [
    "# df.to_csv('data_processed1.csv', index=False)"
   ]
  },
  {
   "cell_type": "code",
   "execution_count": 71,
   "id": "893cbe40-973b-4347-9a9b-daf6379a7261",
   "metadata": {},
   "outputs": [
    {
     "name": "stdout",
     "output_type": "stream",
     "text": [
      "       Kiểu dáng   Xuất xứ Số km đã đi    Hộp số Nhiên liệu\n",
      "count       2296      2296        2296      2296       2296\n",
      "unique        11         2         255         3          3\n",
      "top        Sedan  Nhậpkhẩu      50.000  Sốtựđộng       Xăng\n",
      "freq         867      1335         175      1936       1861\n"
     ]
    }
   ],
   "source": [
    "print(data.describe(include=[object]))"
   ]
  },
  {
   "cell_type": "code",
   "execution_count": 72,
   "id": "59ae128f-e62b-4935-a6cb-2c6fa0fa6fbc",
   "metadata": {},
   "outputs": [
    {
     "name": "stdout",
     "output_type": "stream",
     "text": [
      "                Giá  Năm sản xuất\n",
      "count  2.296000e+03   2296.000000\n",
      "mean   9.388680e+08   2014.597561\n",
      "std    1.545579e+09      5.900413\n",
      "min    3.000000e+07   1987.000000\n",
      "25%    3.800000e+08   2013.000000\n",
      "50%    5.650000e+08   2016.000000\n",
      "75%    8.950000e+08   2018.000000\n",
      "max    2.899000e+10   2022.000000\n"
     ]
    }
   ],
   "source": [
    "print(data.describe())"
   ]
  },
  {
   "cell_type": "code",
   "execution_count": 78,
   "id": "f1a80642-c172-401b-8cc9-dfea01d668bd",
   "metadata": {},
   "outputs": [
    {
     "data": {
      "image/png": "[encoded data removed]",
      "text/plain": [
       "<Figure size 640x480 with 1 Axes>"
      ]
     },
     "metadata": {},
     "output_type": "display_data"
    }
   ],
   "source": [
    "plt.hist(df[\"Giá\"], bins=20)\n",
    "plt.xlabel(\"Giá (VNĐ)\")\n",
    "plt.ylabel(\"Số lượng xe\")\n",
    "plt.title(\"Biểu đồ phân phối giá xe\")\n",
    "plt.grid(True)\n",
    "plt.show()"
   ]
  },
  {
   "cell_type": "code",
   "execution_count": 84,
   "id": "03c1f822-a0ff-439e-9bee-59db7f6ae988",
   "metadata": {},
   "outputs": [
    {
     "data": {
      "image/png": "[encoded data removed]",
      "text/plain": [
       "<Figure size 640x480 with 1 Axes>"
      ]
     },
     "metadata": {},
     "output_type": "display_data"
    }
   ],
   "source": [
    "plt.hist(df['Giá'], bins=20, log=True)\n",
    "\n",
    "# Add labels and title\n",
    "plt.xlabel(\"Giá (VNĐ)\")\n",
    "plt.ylabel(\"Số lượng xe\")\n",
    "plt.title(\"Biểu đồ phân phối giá xe\")\n",
    "\n",
    "# Add grid\n",
    "plt.grid(True)\n",
    "\n",
    "# Show the histogram\n",
    "plt.show()"
   ]
  },
  {
   "cell_type": "code",
   "execution_count": 82,
   "id": "52dafb77-e1a2-414b-9fc8-7352eeebf568",
   "metadata": {},
   "outputs": [
    {
     "name": "stdout",
     "output_type": "stream",
     "text": [
      "30000000.0\n",
      "28990000000.0\n"
     ]
    }
   ],
   "source": [
    "print(df['Giá'].min())\n",
    "print(df['Giá'].max())\n",
    "# bin size = (max - min) / 20  = 1.448.000.000 tỷ vnd"
   ]
  },
  {
   "cell_type": "code",
   "execution_count": 93,
   "id": "ec38df17-5309-4162-a476-846e51c97bb1",
   "metadata": {},
   "outputs": [
    {
     "data": {
      "image/png": "[encoded data removed]",
      "text/plain": [
       "<Figure size 1000x600 with 1 Axes>"
      ]
     },
     "metadata": {},
     "output_type": "display_data"
    }
   ],
   "source": [
    "#biểu đồ scatter giữa giá và số km đã đi\n",
    "import seaborn as sns\n",
    "\n",
    "plt.figure(figsize=(10, 6))\n",
    "sns.scatterplot(x='Số km đã đi', y='Giá', data=data)\n",
    "plt.xlabel('Số km đã đi')\n",
    "plt.ylabel('Giá xe (VND)')\n",
    "plt.title('Tương quan giữa giá xe và số km đã đi')\n",
    "plt.grid(True)\n",
    "plt.show()"
   ]
  },
  {
   "cell_type": "code",
   "execution_count": 104,
   "id": "1b506db9-c557-411e-8300-ebb38240b552",
   "metadata": {},
   "outputs": [
    {
     "data": {
      "image/png": "[encoded data removed]",
      "text/plain": [
       "<Figure size 1000x600 with 1 Axes>"
      ]
     },
     "metadata": {},
     "output_type": "display_data"
    }
   ],
   "source": [
    "max_km = data['Số km đã đi'].max()\n",
    "\n",
    "# Chia 'Số km đã đi' thành các khoảng, đảm bảo giá trị lớn nhất nằm trong khoảng cuối cùng\n",
    "bins = [0, 10000, 50000, 100000, 200000, 300000, max_km + 1]\n",
    "labels = ['0-10k', '10k-50k', '50k-100k', '100k-200k', '200k-300k', '300k+']\n",
    "\n",
    "# Tạo cột mới 'Km_bins' với các khoảng\n",
    "data['Km_bins'] = pd.cut(data['Số km đã đi'], bins=bins, labels=labels, right=False)\n",
    "\n",
    "plt.figure(figsize=(10, 6))\n",
    "sns.scatterplot(x='Km_bins', y='Giá', data=data)\n",
    "plt.xlabel('Số km đã đi (theo khoảng)')\n",
    "plt.ylabel('Giá xe (VND)')\n",
    "plt.title('Tương quan giữa giá xe và số km đã đi (theo khoảng)')\n",
    "plt.grid(True)\n",
    "plt.show()"
   ]
  },
  {
   "cell_type": "code",
   "execution_count": 107,
   "id": "81b1209d-2a48-4161-9dde-da036d82dcbb",
   "metadata": {},
   "outputs": [
    {
     "name": "stderr",
     "output_type": "stream",
     "text": [
      "C:\\Users\\Admin\\AppData\\Local\\Temp\\ipykernel_5392\\2387671880.py:11: FutureWarning: The default of observed=False is deprecated and will be changed to True in a future version of pandas. Pass observed=False to retain current behavior or observed=True to adopt the future default and silence this warning.\n",
      "  avg_price_per_bin = data.groupby('Km_bins')['Giá'].mean().reset_index()\n"
     ]
    },
    {
     "data": {
      "image/png": "[encoded data removed]",
      "text/plain": [
       "<Figure size 1000x600 with 1 Axes>"
      ]
     },
     "metadata": {},
     "output_type": "display_data"
    }
   ],
   "source": [
    "max_km = data['Số km đã đi'].max()\n",
    "\n",
    "# Chia 'Số km đã đi' thành các khoảng, đảm bảo giá trị lớn nhất nằm trong khoảng cuối cùng\n",
    "bins = [0, 10000, 50000, 100000, 200000, 300000, max_km + 1]\n",
    "labels = ['0-10k', '10k-50k', '50k-100k', '100k-200k', '200k-300k', '300k+']\n",
    "\n",
    "# Tạo cột mới 'Km_bins' với các khoảng\n",
    "data['Km_bins'] = pd.cut(data['Số km đã đi'], bins=bins, labels=labels, right=False)\n",
    "\n",
    "# Tính giá trung bình của xe trong mỗi khoảng số km đã đi\n",
    "avg_price_per_bin = data.groupby('Km_bins')['Giá'].mean().reset_index()\n",
    "\n",
    "plt.figure(figsize=(10, 6))\n",
    "sns.lineplot(x='Km_bins', y='Giá', data=avg_price_per_bin, marker='o')\n",
    "plt.xlabel('Số km đã đi (theo khoảng)')\n",
    "plt.ylabel('Giá xe trung bình (VND)')\n",
    "plt.title('Giá xe trung bình theo số km đã đi (theo khoảng)')\n",
    "plt.grid(True)\n",
    "plt.show()"
   ]
  },
  {
   "cell_type": "code",
   "execution_count": null,
   "id": "023e64aa-00e8-46a0-bb4c-988e8477fd70",
   "metadata": {},
   "outputs": [],
   "source": []
  }
 ],
 "metadata": {
  "kernelspec": {
   "display_name": "Python 3 (ipykernel)",
   "language": "python",
   "name": "python3"
  },
  "language_info": {
   "codemirror_mode": {
    "name": "ipython",
    "version": 3
   },
   "file_extension": ".py",
   "mimetype": "text/x-python",
   "name": "python",
   "nbconvert_exporter": "python",
   "pygments_lexer": "ipython3",
   "version": "3.11.4"
  }
 },
 "nbformat": 4,
 "nbformat_minor": 5
}
