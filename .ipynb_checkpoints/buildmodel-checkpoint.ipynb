{
 "cells": [
  {
   "cell_type": "code",
   "execution_count": 6,
   "id": "2388c463-c0c2-4545-9a52-e820cb2045a1",
   "metadata": {},
   "outputs": [],
   "source": [
    "import pandas as pd\n",
    "import matplotlib.pyplot as plt\n",
    "import seaborn as sns\n",
    "import numpy as np\n",
    "from sklearn.model_selection import train_test_split\n",
    "from sklearn.ensemble import RandomForestRegressor\n",
    "from sklearn.preprocessing import LabelEncoder\n",
    "from sklearn.metrics import mean_absolute_error\n",
    "from sklearn.preprocessing import StandardScaler\n",
    "from sklearn.metrics import mean_absolute_error, mean_squared_error, r2_score\n",
    "from sklearn.preprocessing import OneHotEncoder\n",
    "from sklearn.linear_model import LinearRegression"
   ]
  },
  {
   "cell_type": "code",
   "execution_count": 2,
   "id": "e3eac455-8334-42e5-b764-b43f6dd16218",
   "metadata": {},
   "outputs": [],
   "source": [
    "import warnings\n",
    "warnings.filterwarnings('ignore')"
   ]
  },
  {
   "cell_type": "code",
   "execution_count": 2,
   "id": "afbc71dc-9d7d-403a-bba5-07c5b73aff95",
   "metadata": {},
   "outputs": [
    {
     "data": {
      "text/html": [
       "<div>\n",
       "<style scoped>\n",
       "    .dataframe tbody tr th:only-of-type {\n",
       "        vertical-align: middle;\n",
       "    }\n",
       "\n",
       "    .dataframe tbody tr th {\n",
       "        vertical-align: top;\n",
       "    }\n",
       "\n",
       "    .dataframe thead th {\n",
       "        text-align: right;\n",
       "    }\n",
       "</style>\n",
       "<table border=\"1\" class=\"dataframe\">\n",
       "  <thead>\n",
       "    <tr style=\"text-align: right;\">\n",
       "      <th></th>\n",
       "      <th>Giá</th>\n",
       "      <th>Năm sản xuất</th>\n",
       "      <th>Kiểu dáng</th>\n",
       "      <th>Xuất xứ</th>\n",
       "      <th>Số km đã đi</th>\n",
       "      <th>Hộp số</th>\n",
       "      <th>Nhiên liệu</th>\n",
       "    </tr>\n",
       "  </thead>\n",
       "  <tbody>\n",
       "    <tr>\n",
       "      <th>0</th>\n",
       "      <td>1.119000e+09</td>\n",
       "      <td>2016</td>\n",
       "      <td>Sedan</td>\n",
       "      <td>Trongnước</td>\n",
       "      <td>51.499</td>\n",
       "      <td>Sốtựđộng</td>\n",
       "      <td>Xăng</td>\n",
       "    </tr>\n",
       "    <tr>\n",
       "      <th>1</th>\n",
       "      <td>1.789000e+09</td>\n",
       "      <td>2021</td>\n",
       "      <td>SUV</td>\n",
       "      <td>Nhậpkhẩu</td>\n",
       "      <td>8.000</td>\n",
       "      <td>Sốtựđộng</td>\n",
       "      <td>Xăng</td>\n",
       "    </tr>\n",
       "    <tr>\n",
       "      <th>2</th>\n",
       "      <td>5.200000e+08</td>\n",
       "      <td>2021</td>\n",
       "      <td>MPV</td>\n",
       "      <td>Nhậpkhẩu</td>\n",
       "      <td>10.000</td>\n",
       "      <td>Sốtay</td>\n",
       "      <td>Xăng</td>\n",
       "    </tr>\n",
       "    <tr>\n",
       "      <th>3</th>\n",
       "      <td>3.200000e+08</td>\n",
       "      <td>2009</td>\n",
       "      <td>Sedan</td>\n",
       "      <td>Trongnước</td>\n",
       "      <td>90.000</td>\n",
       "      <td>Sốtựđộng</td>\n",
       "      <td>Xăng</td>\n",
       "    </tr>\n",
       "    <tr>\n",
       "      <th>4</th>\n",
       "      <td>7.300000e+08</td>\n",
       "      <td>2016</td>\n",
       "      <td>SUV</td>\n",
       "      <td>Trongnước</td>\n",
       "      <td>68.000</td>\n",
       "      <td>Sốtựđộng</td>\n",
       "      <td>Xăng</td>\n",
       "    </tr>\n",
       "    <tr>\n",
       "      <th>...</th>\n",
       "      <td>...</td>\n",
       "      <td>...</td>\n",
       "      <td>...</td>\n",
       "      <td>...</td>\n",
       "      <td>...</td>\n",
       "      <td>...</td>\n",
       "      <td>...</td>\n",
       "    </tr>\n",
       "    <tr>\n",
       "      <th>2291</th>\n",
       "      <td>6.420000e+08</td>\n",
       "      <td>2018</td>\n",
       "      <td>Pick-upTruck</td>\n",
       "      <td>Nhậpkhẩu</td>\n",
       "      <td>15.000</td>\n",
       "      <td>Sốtựđộng</td>\n",
       "      <td>Diesel</td>\n",
       "    </tr>\n",
       "    <tr>\n",
       "      <th>2292</th>\n",
       "      <td>8.980000e+08</td>\n",
       "      <td>2018</td>\n",
       "      <td>Sedan</td>\n",
       "      <td>Trongnước</td>\n",
       "      <td>50.000</td>\n",
       "      <td>Sốtựđộng</td>\n",
       "      <td>Xăng</td>\n",
       "    </tr>\n",
       "    <tr>\n",
       "      <th>2293</th>\n",
       "      <td>3.800000e+08</td>\n",
       "      <td>2014</td>\n",
       "      <td>Hatchback</td>\n",
       "      <td>Nhậpkhẩu</td>\n",
       "      <td>92.000</td>\n",
       "      <td>Sốtựđộng</td>\n",
       "      <td>Xăng</td>\n",
       "    </tr>\n",
       "    <tr>\n",
       "      <th>2294</th>\n",
       "      <td>1.270000e+08</td>\n",
       "      <td>1993</td>\n",
       "      <td>Sedan</td>\n",
       "      <td>Nhậpkhẩu</td>\n",
       "      <td>68.000</td>\n",
       "      <td>Sốtựđộng</td>\n",
       "      <td>Xăng</td>\n",
       "    </tr>\n",
       "    <tr>\n",
       "      <th>2295</th>\n",
       "      <td>5.650000e+08</td>\n",
       "      <td>2016</td>\n",
       "      <td>SUV</td>\n",
       "      <td>Nhậpkhẩu</td>\n",
       "      <td>6.000</td>\n",
       "      <td>Sốtựđộng</td>\n",
       "      <td>Diesel</td>\n",
       "    </tr>\n",
       "  </tbody>\n",
       "</table>\n",
       "<p>2296 rows × 7 columns</p>\n",
       "</div>"
      ],
      "text/plain": [
       "               Giá  Năm sản xuất     Kiểu dáng    Xuất xứ Số km đã đi  \\\n",
       "0     1.119000e+09          2016         Sedan  Trongnước      51.499   \n",
       "1     1.789000e+09          2021           SUV   Nhậpkhẩu       8.000   \n",
       "2     5.200000e+08          2021           MPV   Nhậpkhẩu      10.000   \n",
       "3     3.200000e+08          2009         Sedan  Trongnước      90.000   \n",
       "4     7.300000e+08          2016           SUV  Trongnước      68.000   \n",
       "...            ...           ...           ...        ...         ...   \n",
       "2291  6.420000e+08          2018  Pick-upTruck   Nhậpkhẩu      15.000   \n",
       "2292  8.980000e+08          2018         Sedan  Trongnước      50.000   \n",
       "2293  3.800000e+08          2014     Hatchback   Nhậpkhẩu      92.000   \n",
       "2294  1.270000e+08          1993         Sedan   Nhậpkhẩu      68.000   \n",
       "2295  5.650000e+08          2016           SUV   Nhậpkhẩu       6.000   \n",
       "\n",
       "        Hộp số Nhiên liệu  \n",
       "0     Sốtựđộng       Xăng  \n",
       "1     Sốtựđộng       Xăng  \n",
       "2        Sốtay       Xăng  \n",
       "3     Sốtựđộng       Xăng  \n",
       "4     Sốtựđộng       Xăng  \n",
       "...        ...        ...  \n",
       "2291  Sốtựđộng     Diesel  \n",
       "2292  Sốtựđộng       Xăng  \n",
       "2293  Sốtựđộng       Xăng  \n",
       "2294  Sốtựđộng       Xăng  \n",
       "2295  Sốtựđộng     Diesel  \n",
       "\n",
       "[2296 rows x 7 columns]"
      ]
     },
     "execution_count": 2,
     "metadata": {},
     "output_type": "execute_result"
    }
   ],
   "source": [
    "df = pd.read_csv(\"data_processed.csv\")\n",
    "df"
   ]
  },
  {
   "cell_type": "code",
   "execution_count": 6,
   "id": "ca268215-dac3-4320-81c4-eff75813b3dd",
   "metadata": {},
   "outputs": [],
   "source": [
    "df['Số km đã đi'] = df['Số km đã đi'].str.replace(' km', '').str.replace('.', '').astype(float)"
   ]
  },
  {
   "cell_type": "code",
   "execution_count": 7,
   "id": "e1c72435-0d2d-4d68-8273-c41f78d9cae7",
   "metadata": {},
   "outputs": [
    {
     "name": "stdout",
     "output_type": "stream",
     "text": [
      "0       51499.0\n",
      "1        8000.0\n",
      "2       10000.0\n",
      "3       90000.0\n",
      "4       68000.0\n",
      "         ...   \n",
      "2291    15000.0\n",
      "2292    50000.0\n",
      "2293    92000.0\n",
      "2294    68000.0\n",
      "2295     6000.0\n",
      "Name: Số km đã đi, Length: 2296, dtype: float64\n"
     ]
    }
   ],
   "source": [
    "print(df['Số km đã đi'])"
   ]
  },
  {
   "cell_type": "code",
   "execution_count": 3,
   "id": "ab46f0d5-4291-434f-add5-87e9693bba12",
   "metadata": {},
   "outputs": [
    {
     "name": "stdout",
     "output_type": "stream",
     "text": [
      "<class 'pandas.core.frame.DataFrame'>\n",
      "RangeIndex: 2296 entries, 0 to 2295\n",
      "Data columns (total 7 columns):\n",
      " #   Column        Non-Null Count  Dtype  \n",
      "---  ------        --------------  -----  \n",
      " 0   Giá           2296 non-null   float64\n",
      " 1   Năm sản xuất  2296 non-null   int64  \n",
      " 2   Kiểu dáng     2296 non-null   object \n",
      " 3   Xuất xứ       2296 non-null   object \n",
      " 4   Số km đã đi   2296 non-null   object \n",
      " 5   Hộp số        2296 non-null   object \n",
      " 6   Nhiên liệu    2296 non-null   object \n",
      "dtypes: float64(1), int64(1), object(5)\n",
      "memory usage: 125.7+ KB\n"
     ]
    }
   ],
   "source": [
    "df.info()"
   ]
  },
  {
   "cell_type": "code",
   "execution_count": 6,
   "id": "d841fb27-ddb2-4838-a8c7-150b9ffe7323",
   "metadata": {},
   "outputs": [
    {
     "name": "stdout",
     "output_type": "stream",
     "text": [
      "['Sedan' 'SUV' 'MPV' 'Pick-upTruck' 'Hatchback' 'Convertible' 'CUV'\n",
      " 'Coupe' 'Van/Minivan' 'SportCar' 'Truck']\n"
     ]
    }
   ],
   "source": [
    "print(df['Kiểu dáng'].unique())"
   ]
  },
  {
   "cell_type": "code",
   "execution_count": 7,
   "id": "e57a3570-db89-4835-9436-9955db6dadc8",
   "metadata": {},
   "outputs": [
    {
     "name": "stdout",
     "output_type": "stream",
     "text": [
      "['Trongnước' 'Nhậpkhẩu']\n"
     ]
    }
   ],
   "source": [
    "print(df['Xuất xứ'].unique())"
   ]
  },
  {
   "cell_type": "code",
   "execution_count": 8,
   "id": "ad8dc499-12e2-4141-b3eb-dab5b37b4698",
   "metadata": {},
   "outputs": [
    {
     "name": "stdout",
     "output_type": "stream",
     "text": [
      "['Sốtựđộng' 'Sốtay' 'Sốhỗnhợp']\n"
     ]
    }
   ],
   "source": [
    "print(df['Hộp số'].unique())"
   ]
  },
  {
   "cell_type": "code",
   "execution_count": 9,
   "id": "8db64a10-6c5a-48aa-8df7-16a59c430415",
   "metadata": {},
   "outputs": [
    {
     "name": "stdout",
     "output_type": "stream",
     "text": [
      "['Xăng' 'Diesel' 'Loạikhác']\n"
     ]
    }
   ],
   "source": [
    "print(df['Nhiên liệu'].unique())"
   ]
  },
  {
   "cell_type": "markdown",
   "id": "6f7821cb-f401-47ed-a278-f7f391b26e05",
   "metadata": {},
   "source": [
    "Convert những giá trị chuỗi của cột  Kiểu dáng, Xuất xứ, Số km đã đi, Hộp số, Nhiên liệu sang giá trị số để train model"
   ]
  },
  {
   "cell_type": "code",
   "execution_count": 10,
   "id": "01968e96-d33b-42ea-9f49-6814a0b77763",
   "metadata": {},
   "outputs": [
    {
     "name": "stdout",
     "output_type": "stream",
     "text": [
      "Sedan: 7\n",
      "SUV: 6\n",
      "MPV: 4\n",
      "Pick-upTruck: 5\n",
      "Hatchback: 3\n",
      "Convertible: 1\n",
      "CUV: 0\n",
      "Coupe: 2\n",
      "Van/Minivan: 10\n",
      "SportCar: 8\n",
      "Truck: 9\n"
     ]
    }
   ],
   "source": [
    "from sklearn.preprocessing import LabelEncoder\n",
    "\n",
    "# Tạo thực thể LabelEncoder\n",
    "le_kieudang = LabelEncoder()\n",
    "\n",
    "# Danh sách các giá trị cần ánh xạ\n",
    "categories_kieudang = ['Sedan', 'SUV', 'MPV', 'Pick-upTruck', 'Hatchback', 'Convertible', 'CUV',\n",
    "                       'Coupe', 'Van/Minivan', 'SportCar', 'Truck']\n",
    "\n",
    "# Huấn luyện LabelEncoder với các giá trị trên\n",
    "le_kieudang.fit(categories_kieudang)\n",
    "\n",
    "# Ánh xạ các giá trị này sang số nguyên bằng phương thức transform()\n",
    "mapped_values = le_kieudang.transform(categories_kieudang)\n",
    "\n",
    "# In ra ánh xạ giữa giá trị gốc và giá trị số nguyên tương ứng\n",
    "for original, mapped in zip(categories_kieudang, mapped_values):\n",
    "    print(f'{original}: {mapped}')"
   ]
  },
  {
   "cell_type": "code",
   "execution_count": 11,
   "id": "5023a465-769a-4dcd-86b8-72ef8f2cc57a",
   "metadata": {},
   "outputs": [
    {
     "name": "stdout",
     "output_type": "stream",
     "text": [
      "Trongnước: 1\n",
      "Nhậpkhẩu: 0\n"
     ]
    }
   ],
   "source": [
    "# Tạo thực thể LabelEncoder\n",
    "le_nhapkhau = LabelEncoder()\n",
    "\n",
    "# Danh sách các giá trị cần ánh xạ cho cột \"Nhập khẩu\"\n",
    "categories_nhapkhau = ['Trongnước', 'Nhậpkhẩu']\n",
    "\n",
    "# Huấn luyện LabelEncoder với các giá trị trên\n",
    "le_nhapkhau.fit(categories_nhapkhau)\n",
    "\n",
    "# Ánh xạ các giá trị này sang số nguyên bằng phương thức transform()\n",
    "mapped_values_nhapkhau = le_nhapkhau.transform(categories_nhapkhau)\n",
    "\n",
    "# In ra ánh xạ giữa giá trị gốc và giá trị số nguyên tương ứng\n",
    "for original, mapped in zip(categories_nhapkhau, mapped_values_nhapkhau):\n",
    "    print(f'{original}: {mapped}')"
   ]
  },
  {
   "cell_type": "code",
   "execution_count": 12,
   "id": "2abf522c-03c9-45a2-9aba-a930b6fbfda7",
   "metadata": {},
   "outputs": [
    {
     "name": "stdout",
     "output_type": "stream",
     "text": [
      "Sốtựđộng: 2\n",
      "Sốtay: 1\n",
      "Sốhỗnhợp: 0\n"
     ]
    }
   ],
   "source": [
    "# Tạo thực thể của LabelEncoder\n",
    "le_hopso = LabelEncoder()\n",
    "\n",
    "# Danh sách các giá trị cần ánh xạ cho cột \"Hộp số\"\n",
    "categories_hopso = ['Sốtựđộng', 'Sốtay', 'Sốhỗnhợp']\n",
    "\n",
    "# Huấn luyện LabelEncoder với các giá trị trên\n",
    "le_hopso.fit(categories_hopso)\n",
    "df['Hộp số'] = le_hopso.transform(df['Hộp số'])\n",
    "# Ánh xạ các giá trị này sang số nguyên bằng phương thức transform()\n",
    "mapped_values_hopso = le_hopso.transform(categories_hopso)\n",
    "\n",
    "# In ra ánh xạ giữa giá trị gốc và giá trị số nguyên tương ứng\n",
    "for original, mapped in zip(categories_hopso, mapped_values_hopso):\n",
    "    print(f'{original}: {mapped}')"
   ]
  },
  {
   "cell_type": "code",
   "execution_count": 13,
   "id": "86963b86-27ce-4566-95c4-875d91e8c283",
   "metadata": {},
   "outputs": [
    {
     "name": "stdout",
     "output_type": "stream",
     "text": [
      "Xăng: 2\n",
      "Diesel: 0\n",
      "Loạikhác: 1\n"
     ]
    }
   ],
   "source": [
    "# Tạo thực thể của LabelEncoder\n",
    "le_nhienlieu = LabelEncoder()\n",
    "\n",
    "# Danh sách các giá trị cần ánh xạ cho cột \"Nhiên liệu\"\n",
    "categories_nhienlieu = ['Xăng', 'Diesel', 'Loạikhác']\n",
    "\n",
    "# Huấn luyện LabelEncoder với các giá trị trên\n",
    "le_nhienlieu.fit(categories_nhienlieu)\n",
    "\n",
    "# Ánh xạ các giá trị này sang số nguyên bằng phương thức transform()\n",
    "mapped_values_nhienlieu = le_nhienlieu.transform(categories_nhienlieu)\n",
    "\n",
    "# In ra ánh xạ giữa giá trị gốc và giá trị số nguyên tương ứng\n",
    "for original, mapped in zip(categories_nhienlieu, mapped_values_nhienlieu):\n",
    "    print(f'{original}: {mapped}')"
   ]
  },
  {
   "cell_type": "code",
   "execution_count": 29,
   "id": "1d57b920-bcd8-4125-ba37-1fddd53d3370",
   "metadata": {},
   "outputs": [
    {
     "name": "stdout",
     "output_type": "stream",
     "text": [
      "<class 'pandas.core.frame.DataFrame'>\n",
      "RangeIndex: 2296 entries, 0 to 2295\n",
      "Data columns (total 7 columns):\n",
      " #   Column        Non-Null Count  Dtype  \n",
      "---  ------        --------------  -----  \n",
      " 0   Giá           2296 non-null   float64\n",
      " 1   Năm sản xuất  2296 non-null   int64  \n",
      " 2   Kiểu dáng     2296 non-null   int32  \n",
      " 3   Xuất xứ       2296 non-null   int32  \n",
      " 4   Số km đã đi   2296 non-null   float64\n",
      " 5   Hộp số        2296 non-null   int32  \n",
      " 6   Nhiên liệu    2296 non-null   int32  \n",
      "dtypes: float64(2), int32(4), int64(1)\n",
      "memory usage: 89.8 KB\n"
     ]
    }
   ],
   "source": [
    "df.info()"
   ]
  },
  {
   "cell_type": "code",
   "execution_count": 21,
   "id": "a3aee36a-f8fb-4897-bbe1-e4ed8ceeed5d",
   "metadata": {},
   "outputs": [],
   "source": [
    "df['Kiểu dáng'] = df['Kiểu dáng'].replace({'Sedan': 1,'SUV':2,'MPV':3,'Pick-upTruck':4,'Hatchback':5,'Convertible':6,'CUV':7,'Coupe':8,'Van/Minivan':9,'SportCar':10,'Truck':11}).astype(int)"
   ]
  },
  {
   "cell_type": "code",
   "execution_count": 24,
   "id": "b5a95d9a-33ef-497e-8963-9dd6e3bfca10",
   "metadata": {},
   "outputs": [],
   "source": [
    "df['Xuất xứ'] = df['Xuất xứ'].replace({'Nhậpkhẩu': 1,'Trongnước':2}).astype(int)"
   ]
  },
  {
   "cell_type": "code",
   "execution_count": 26,
   "id": "e4775793-62c0-40de-8cdd-944d2255b413",
   "metadata": {},
   "outputs": [],
   "source": [
    "df['Hộp số'] = df['Hộp số'].replace({'Sốhỗnhợp': 1,'Sốtay':2,'Sốtựđộng':3}).astype(int)"
   ]
  },
  {
   "cell_type": "code",
   "execution_count": 28,
   "id": "8ae0697a-ae93-4967-89eb-c72f5802d127",
   "metadata": {},
   "outputs": [],
   "source": [
    "df['Nhiên liệu'] = df['Nhiên liệu'].replace({'Xăng': 1,'Diesel':2,'Loạikhác':3}).astype(int)"
   ]
  },
  {
   "cell_type": "markdown",
   "id": "0e52a990-a93c-4a2f-a7d4-f5e3404558f8",
   "metadata": {},
   "source": [
    "Đã xong chuẩn hóa dữ liệu"
   ]
  },
  {
   "cell_type": "markdown",
   "id": "ec19a633-3974-46e8-b762-fd7cd566b5f9",
   "metadata": {},
   "source": [
    "## Bắt đầu xây dựng mô hình"
   ]
  },
  {
   "cell_type": "code",
   "execution_count": 5,
   "id": "3a643e75-285b-407a-acac-4ad8aec8c9ff",
   "metadata": {},
   "outputs": [
    {
     "name": "stdout",
     "output_type": "stream",
     "text": [
      "Giá xe dự đoán: 580,962,337 VND\n"
     ]
    }
   ],
   "source": [
    "\n",
    "# # Đọc file data\n",
    "df = pd.read_csv(\"data_processed.csv\")\n",
    "\n",
    "# Sửa lỗi chính tả\n",
    "df[\"Số km đã đi\"] = df[\"Số km đã đi\"].str.replace(\".\", \"\")\n",
    "\n",
    "# Chuyển đổi kiểu dữ liệu\n",
    "df[\"Số km đã đi\"] = df[\"Số km đã đi\"].astype(float) \n",
    "\n",
    "# Chuyển đổi các cột categorical sang dạng số\n",
    "categorical_cols = [\"Kiểu dáng\", \"Xuất xứ\", \"Hộp số\", \"Nhiên liệu\"]\n",
    "encoder = OneHotEncoder(handle_unknown='ignore')\n",
    "encoded_features = encoder.fit_transform(df[categorical_cols]).toarray()\n",
    "encoded_features_df = pd.DataFrame(encoded_features, columns=encoder.get_feature_names_out(categorical_cols))\n",
    "df = df.drop(categorical_cols, axis=1).join(encoded_features_df)\n",
    "\n",
    "# Chia dữ liệu thành tập huấn luyện và tập kiểm tra\n",
    "X_train, X_test, y_train, y_test = train_test_split(\n",
    "    df.drop(\"Giá\", axis=1), df[\"Giá\"], test_size=0.2, random_state=42\n",
    ")\n",
    "\n",
    "# Huấn luyện mô hình\n",
    "model = LinearRegression()\n",
    "model.fit(X_train, y_train)\n",
    "\n",
    "# Dự đoán giá xe với thông tin mới\n",
    "new_car_data = {\n",
    "    \"Năm sản xuất\": 2010,\n",
    "    \"Số km đã đi\": '52900',\n",
    "    \"Kiểu dáng\": \"Sedan\",\n",
    "    \"Xuất xứ\": \"Trong nước\",\n",
    "    \"Hộp số\": \"Số tự động\",\n",
    "    \"Nhiên liệu\": \"Xăng\"\n",
    "}\n",
    "\n",
    "# Chuyển đổi dữ liệu mới sang dạng số\n",
    "new_car_data_encoded = pd.DataFrame([new_car_data], columns=new_car_data.keys())\n",
    "encoded_data = encoder.transform(new_car_data_encoded[categorical_cols]).toarray()  \n",
    "encoded_df = pd.DataFrame(encoded_data, columns=encoder.get_feature_names_out(categorical_cols))  # Tạo DataFrame từ mảng NumPy\n",
    "\n",
    "\n",
    "y_pred = model.predict(X_test)\n",
    "\n",
    "# Tính các chỉ số đánh giá\n",
    "mae = mean_absolute_error(y_test, y_pred)\n",
    "mse = mean_squared_error(y_test, y_pred)\n",
    "r2 = r2_score(y_test, y_pred)\n",
    "\n",
    "print(\"Mean Absolute Error (MAE):\", mae)\n",
    "print(\"Mean Squared Error (MSE):\", mse)\n",
    "print(\"R² Score:\", r2)\n",
    "\n",
    "new_car_data_encoded = new_car_data_encoded.drop(categorical_cols, axis=1).join(encoded_df)  # Kết hợp DataFrame\n",
    "\n",
    "# Dự đoán giá xe\n",
    "predicted_price = model.predict(new_car_data_encoded)\n",
    "formatted_price = format(predicted_price[0], \",.0f\")  # Định dạng số với dấu \",\" phân cách hàng nghìn\n",
    "print(\"Giá xe dự đoán:\", formatted_price,\"VND\")"
   ]
  },
  {
   "cell_type": "code",
   "execution_count": 7,
   "id": "268ab424-db7c-4035-95de-d378087bec59",
   "metadata": {},
   "outputs": [
    {
     "name": "stdout",
     "output_type": "stream",
     "text": [
      "Mean Absolute Error (MAE): 642071362.2042962\n",
      "Mean Squared Error (MSE): 2.2463510889022792e+18\n",
      "R² Score: 0.19535829193594811\n"
     ]
    }
   ],
   "source": []
  },
  {
   "cell_type": "code",
   "execution_count": 12,
   "id": "dd1a3311-14a6-4bd4-ab75-f596f2bf4c81",
   "metadata": {},
   "outputs": [
    {
     "name": "stdout",
     "output_type": "stream",
     "text": [
      "Random Forest - Mean Absolute Error (MAE): 392155010.5849902\n",
      "Random Forest - Mean Squared Error (MSE): 1.7613706706869586e+18\n",
      "Random Forest - R² Score: 0.36907800744181307\n",
      "Cross-Validated R² Scores: [ 0.39279828  0.34084864 -0.40065675  0.99995315  0.99995644]\n",
      "Mean Cross-Validated R² Score: 0.4665799523656496\n",
      "Giá xe dự đoán (Random Forest): 1,876,510,000 VND\n"
     ]
    }
   ],
   "source": [
    "from sklearn.ensemble import RandomForestRegressor\n",
    "from sklearn.preprocessing import StandardScaler\n",
    "from sklearn.pipeline import Pipeline\n",
    "from sklearn.model_selection import cross_val_score\n",
    "\n",
    "# Chuẩn hóa dữ liệu\n",
    "scaler = StandardScaler()\n",
    "X_train_scaled = scaler.fit_transform(X_train)\n",
    "X_test_scaled = scaler.transform(X_test)\n",
    "\n",
    "# Huấn luyện mô hình Random Forest\n",
    "rf_model = RandomForestRegressor(n_estimators=100, random_state=42)\n",
    "rf_model.fit(X_train_scaled, y_train)\n",
    "\n",
    "# Đánh giá độ chính xác của mô hình\n",
    "y_pred_rf = rf_model.predict(X_test_scaled)\n",
    "mae_rf = mean_absolute_error(y_test, y_pred_rf)\n",
    "mse_rf = mean_squared_error(y_test, y_pred_rf)\n",
    "r2_rf = r2_score(y_test, y_pred_rf)\n",
    "\n",
    "print(\"Random Forest - Mean Absolute Error (MAE):\", mae_rf)\n",
    "print(\"Random Forest - Mean Squared Error (MSE):\", mse_rf)\n",
    "print(\"Random Forest - R² Score:\", r2_rf)\n",
    "\n",
    "\n",
    "\n",
    "# K-Fold Cross-Validation\n",
    "cv_scores = cross_val_score(rf_model, scaler.transform(df.drop(\"Giá\", axis=1)), df[\"Giá\"], cv=5, scoring='r2')\n",
    "print(\"Cross-Validated R² Scores:\", cv_scores)\n",
    "print(\"Mean Cross-Validated R² Score:\", cv_scores.mean())\n",
    "\n",
    "# Dự đoán giá xe với thông tin mới\n",
    "new_car_data = {\n",
    "    \"Năm sản xuất\": 2010,\n",
    "    \"Số km đã đi\": '52900',\n",
    "    \"Kiểu dáng\": \"Sedan\",\n",
    "    \"Xuất xứ\": \"Trong nước\",\n",
    "    \"Hộp số\": \"Số tự động\",\n",
    "    \"Nhiên liệu\": \"Xăng\"\n",
    "}\n",
    "\n",
    "# Chuyển đổi dữ liệu mới sang dạng số\n",
    "new_car_data_encoded = pd.DataFrame([new_car_data], columns=new_car_data.keys())\n",
    "encoded_data = encoder.transform(new_car_data_encoded[categorical_cols]).toarray()\n",
    "encoded_df = pd.DataFrame(encoded_data, columns=encoder.get_feature_names_out(categorical_cols))\n",
    "new_car_data_encoded = new_car_data_encoded.drop(categorical_cols, axis=1).join(encoded_df)\n",
    "\n",
    "# Dự đoán giá xe\n",
    "new_car_data_scaled = scaler.transform(new_car_data_encoded)\n",
    "predicted_price_rf = rf_model.predict(new_car_data_scaled)\n",
    "formatted_price_rf = format(predicted_price_rf[0], \",.0f\")\n",
    "print(\"Giá xe dự đoán (Random Forest):\", formatted_price_rf, \"VND\")\n"
   ]
  },
  {
   "cell_type": "code",
   "execution_count": null,
   "id": "fbcf365b-5c10-4845-a231-b07754aaa2f4",
   "metadata": {},
   "outputs": [],
   "source": [
    "from sklearn.metrics import mean_absolute_error, mean_squared_error, r2_score\n",
    "from sklearn.model_selection import GridSearchCV, KFold\n",
    "from sklearn.ensemble import RandomForestRegressor\n",
    "from sklearn.preprocessing import StandardScaler\n",
    "from sklearn.pipeline import Pipeline\n",
    "from sklearn.model_selection import train_test_split, cross_val_score\n",
    "import pandas as pd\n",
    "\n",
    "# Đọc file data\n",
    "df = pd.read_csv(\"data_processed.csv\")\n",
    "\n",
    "# Sửa lỗi chính tả\n",
    "df[\"Số km đã đi\"] = df[\"Số km đã đi\"].str.replace(\".\", \"\")\n",
    "\n",
    "# Chuyển đổi kiểu dữ liệu\n",
    "df[\"Số km đã đi\"] = df[\"Số km đã đi\"].astype(float)\n",
    "\n",
    "# Chuyển đổi các cột categorical sang dạng số\n",
    "categorical_cols = [\"Kiểu dáng\", \"Xuất xứ\", \"Hộp số\", \"Nhiên liệu\"]\n",
    "encoder = OneHotEncoder(handle_unknown='ignore')\n",
    "encoded_features = encoder.fit_transform(df[categorical_cols]).toarray()\n",
    "encoded_features_df = pd.DataFrame(encoded_features, columns=encoder.get_feature_names_out(categorical_cols))\n",
    "df = df.drop(categorical_cols, axis=1).join(encoded_features_df)\n",
    "\n",
    "# Chia dữ liệu thành tập huấn luyện và tập kiểm tra\n",
    "X_train, X_test, y_train, y_test = train_test_split(\n",
    "    df.drop(\"Giá\", axis=1), df[\"Giá\"], test_size=0.2, random_state=42\n",
    ")\n",
    "\n",
    "# Chuẩn hóa dữ liệu\n",
    "scaler = StandardScaler()\n",
    "X_train_scaled = scaler.fit_transform(X_train)\n",
    "X_test_scaled = scaler.transform(X_test)\n",
    "\n",
    "# Định nghĩa lưới các siêu tham số\n",
    "param_grid = {\n",
    "    'n_estimators': [100, 200, 300],\n",
    "    'max_depth': [None, 10, 20, 30],\n",
    "    'min_samples_split': [2, 5, 10],\n",
    "    'min_samples_leaf': [1, 2, 4]\n",
    "}\n",
    "\n",
    "# Khởi tạo mô hình Random Forest\n",
    "rf = RandomForestRegressor(random_state=42)\n",
    "\n",
    "# Định nghĩa k-fold cross-validation với số lượng folds là 10\n",
    "cv = KFold(n_splits=10, shuffle=True, random_state=42)\n",
    "\n",
    "# Grid search với cross-validation\n",
    "grid_search = GridSearchCV(estimator=rf, param_grid=param_grid, cv=cv, scoring='r2', n_jobs=-1)\n",
    "grid_search.fit(X_train_scaled, y_train)\n",
    "\n",
    "# Kết quả tốt nhất từ grid search\n",
    "best_rf = grid_search.best_estimator_\n",
    "print(\"Best parameters found: \", grid_search.best_params_)\n",
    "\n",
    "# Đánh giá mô hình với các siêu tham số tốt nhất\n",
    "y_pred_best_rf = best_rf.predict(X_test_scaled)\n",
    "mae_best_rf = mean_absolute_error(y_test, y_pred_best_rf)\n",
    "mse_best_rf = mean_squared_error(y_test, y_pred_best_rf)\n",
    "r2_best_rf = r2_score(y_test, y_pred_best_rf)\n",
    "\n",
    "print(\"Tuned Random Forest - Mean Absolute Error (MAE):\", mae_best_rf)\n",
    "print(\"Tuned Random Forest - Mean Squared Error (MSE):\", mse_best_rf)\n",
    "print(\"Tuned Random Forest - R² Score:\", r2_best_rf)\n",
    "\n",
    "# Biểu diễn R² Score dưới dạng phần trăm\n",
    "accuracy_percentage = r2_best_rf * 100\n",
    "print(\"Độ chính xác của mô hình (R² Score): {:.2f}%\".format(accuracy_percentage))\n",
    "\n",
    "# K-Fold Cross-Validation với mô hình tốt nhất\n",
    "cv_scores = cross_val_score(best_rf, scaler.transform(df.drop(\"Giá\", axis=1)), df[\"Giá\"], cv=cv, scoring='r2')\n",
    "print(\"Cross-Validated R² Scores:\", cv_scores)\n",
    "print(\"Mean Cross-Validated R² Score:\", cv_scores.mean())\n",
    "\n",
    "# Dự đoán giá xe với mô hình tốt nhất\n",
    "new_car_data = {\n",
    "    \"Năm sản xuất\": 2010,\n",
    "    \"Số km đã đi\": '52900',\n",
    "    \"Kiểu dáng\": \"Sedan\",\n",
    "    \"Xuất xứ\": \"Trong nước\",\n",
    "    \"Hộp số\": \"Số tự động\",\n",
    "    \"Nhiên liệu\": \"Xăng\"\n",
    "}\n",
    "\n",
    "# Chuyển đổi dữ liệu mới sang dạng số\n",
    "new_car_data_encoded = pd.DataFrame([new_car_data], columns=new_car_data.keys())\n",
    "encoded_data = encoder.transform(new_car_data_encoded[categorical_cols]).toarray()\n",
    "encoded_df = pd.DataFrame(encoded_data, columns=encoder.get_feature_names_out(categorical_cols))\n",
    "new_car_data_encoded = new_car_data_encoded.drop(categorical_cols, axis=1).join(encoded_df)\n",
    "\n",
    "# Dự đoán giá xe\n",
    "new_car_data_scaled = scaler.transform(new_car_data_encoded)\n",
    "predicted_price_best_rf = best_rf.predict(new_car_data_scaled)\n",
    "formatted_price_best_rf = format(predicted_price_best_rf[0], \",.0f\")\n",
    "print(\"Giá xe dự đoán (Tuned Random Forest):\", formatted_price_best_rf, \"VND\")\n"
   ]
  },
  {
   "cell_type": "code",
   "execution_count": null,
   "id": "83272672-f9cf-499b-89ff-ec6dfe4e44c7",
   "metadata": {},
   "outputs": [],
   "source": []
  }
 ],
 "metadata": {
  "kernelspec": {
   "display_name": "Python 3 (ipykernel)",
   "language": "python",
   "name": "python3"
  },
  "language_info": {
   "codemirror_mode": {
    "name": "ipython",
    "version": 3
   },
   "file_extension": ".py",
   "mimetype": "text/x-python",
   "name": "python",
   "nbconvert_exporter": "python",
   "pygments_lexer": "ipython3",
   "version": "3.11.4"
  }
 },
 "nbformat": 4,
 "nbformat_minor": 5
}
